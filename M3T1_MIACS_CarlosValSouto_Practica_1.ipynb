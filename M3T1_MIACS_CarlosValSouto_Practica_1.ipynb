{
 "cells": [
  {
   "cell_type": "markdown",
   "id": "c53f7131",
   "metadata": {
    "id": "c53f7131"
   },
   "source": [
    "# Práctica 1: Redes Neuronales para la clasificación de imágenes"
   ]
  },
  {
   "cell_type": "markdown",
   "id": "bf1e698e",
   "metadata": {
    "id": "bf1e698e"
   },
   "source": [
    "En esta primera práctica, vamos a dar un repaso a la historia de las redes neuronales a traves de la clasificación de imagenes.\n",
    "\n",
    "En este caso, haremos uso de la plataforma [Kaggle](https://www.kaggle.com/) para utilizar uno de los muchos datasets que ponen a disposición de la comunidad. Concretamente, vamos a utilizar un dataset muy curioso que recoge expresiones faciales de distintos animales, disponible [aquí](https://www.kaggle.com/datasets/anshtanwar/pets-facial-expression-dataset) con el cual enfrentaremos el problema de clasificación.\n",
    "\n",
    "Empezaremos por **preparar los datos** para poder ser procesados por una red convolucional. Despues, el objetivo sera **implementar una red neuronal clasica** para resolver el problema de clasificación. Finalmente, la practica se centra en la **implementacion de la primera red convolucional** (CNN) que batió todos los records en clasificacion: [**AlexNet**](https://papers.nips.cc/paper_files/paper/2012/hash/c399862d3b9d6b76c8436e924a68c45b-Abstract.html). Este modelo sigue siendo la base de las arquitecturas contemporaneas basadas en redes convolucionales.\n",
    "\n",
    "La practica tiene **cuatro ejercicios**:\n",
    "\n",
    "*   Ej. 1: Adquisición de datos (2.5 puntos)\n",
    "*   Ej. 2: Entrenamiento red neuronal clasica (2,5 puntos)\n",
    "*   Ej. 3: Arquitectura del estado del arte: AlexNet (4 puntos)\n",
    "*   Ej. 4: Análisis de los entrenamientos (1 punto)\n",
    "\n",
    "\n",
    "\n",
    "\n"
   ]
  },
  {
   "cell_type": "markdown",
   "id": "c595f563",
   "metadata": {
    "id": "c595f563"
   },
   "source": [
    "### Objetivos"
   ]
  },
  {
   "cell_type": "markdown",
   "id": "517688bc",
   "metadata": {
    "id": "517688bc"
   },
   "source": [
    "Los objetivos esta primera práctica son los siguientes:\n",
    "- Adquisición y disponibilización de datos utilizando las estructuras de datos proporcionadas por PyTorch.\n",
    "- Diseño de una **red neuronal** **convencional** o **clasica** adaptada a los datos de entrada, así como su posterior desarrollo y entrenamiento utilizando **PyTorch**.\n",
    "- Implementar una **Red Neuronal Convolucional** (CNN) del estado del arte: **AlexNet**\n",
    "- Desarrollar un pensamiento critico para evaluar el rendimiento de los modelos\n"
   ]
  },
  {
   "cell_type": "markdown",
   "id": "eafc5c07",
   "metadata": {
    "id": "eafc5c07"
   },
   "source": [
    "### Consideraciones importantes en el uso de este Notebook\n"
   ]
  },
  {
   "cell_type": "markdown",
   "id": "aGUtsst67gbl",
   "metadata": {
    "id": "aGUtsst67gbl"
   },
   "source": [
    "- Asegúrate de utilizar las celdas de tipo \"Markdown\" para texto y las de \"Code\" para código. Combinar distintos tipos de celda ayuda a la explicabilidad de la resolución y a la limpieza en general. Puedes crear celdas adicionales si lo necesitas.\n",
    "- Asegurate de **no cambiar** **el** **nombre de las variables** de codigo que estan como enunciado.\n",
    "- Aunque se puede correr con CPU, es recomendable utilizar las GPU/TPUs disponibles en colab para el Ejercicio 3., para entrenar la CNN mas rapido.\n",
    "- A la hora de la entrega del Notebook definitivo, asegúrate que lo entregas ejecutado y **con las salidas de las celdas guardadas**. Esto será necesario para la generación del **PDF de entrega**.\n",
    "- El código cuanto más comentado mejor. Además, cualquier reflexión adicional siempre será bienvenida."
   ]
  },
  {
   "cell_type": "markdown",
   "id": "4ta8sK8sBWl0",
   "metadata": {
    "id": "4ta8sK8sBWl0"
   },
   "source": [
    "### Librerias a importar\n",
    "Corre la celda de codigo de abajo para importar las librerias necesarias en la practica"
   ]
  },
  {
   "cell_type": "code",
   "execution_count": 1,
   "id": "7db09b73",
   "metadata": {
    "id": "7db09b73"
   },
   "outputs": [],
   "source": [
    "import torch, torchvision\n",
    "import os\n",
    "import numpy as np\n",
    "import matplotlib.pyplot as plt\n",
    "import os\n",
    "os.environ[\"KMP_DUPLICATE_LIB_OK\"]=\"TRUE\"\n"
   ]
  },
  {
   "cell_type": "markdown",
   "id": "z_N2VF4nBm0H",
   "metadata": {
    "id": "z_N2VF4nBm0H"
   },
   "source": [
    "Verifica el tipo de hardware que estas utilizando:"
   ]
  },
  {
   "cell_type": "code",
   "execution_count": 2,
   "id": "c19004fc",
   "metadata": {
    "id": "c19004fc"
   },
   "outputs": [
    {
     "name": "stdout",
     "output_type": "stream",
     "text": [
      "cuda\n"
     ]
    }
   ],
   "source": [
    "device = torch.device(\"cuda\" if torch.cuda.is_available() else \"cpu\")\n",
    "print(device)"
   ]
  },
  {
   "cell_type": "markdown",
   "id": "0702466a",
   "metadata": {},
   "source": [
    "Esta practica la he hecho en mi laptop con AMD Ryzen 7 + 64GB RAM + NVidia RTX 3060 GPU.\n",
    "+ Windows 11 \n",
    "+ VSCode con las extensiones \n",
    "    + Python y con el kernel .venv(Python 3.10)  +  \"Activar venv: ..venv\\Scripts\\Activate.ps1\"\n",
    "    + Jupyter\n",
    "+ Librerías torch, torchvivion, torchaudio, matplotlib, numpy, ipkernel y kagglehub"
   ]
  },
  {
   "cell_type": "markdown",
   "id": "f82f4ee4",
   "metadata": {
    "id": "f82f4ee4"
   },
   "source": [
    "## Ej 1. Adquisición de datos (2.5 puntos)\n",
    "\n",
    "Antes de implementar redes neuronales o de entrenarlas, es necesario llevar a cabo la adquisición y la preparación de los datos.\n",
    "\n",
    "El primer ejercicio consiste en la **descarga del dataset**, disponible [aquí](https://www.kaggle.com/datasets/anshtanwar/pets-facial-expression-dataset), y la construcción de los tres **Datasets** con los siguientes nombres:\n",
    "- *train_dataset*: Incluirá las imágenes contenidas en la carpeta de **train** del dataset original.\n",
    "- *validation_dataset*: Incluirá las imágenes contenidas en la carpeta de **validación** del dataset original.\n",
    "- *test_dataset*: Incluirá las imágenes contenidas en la carpeta de **test** del dataset original."
   ]
  },
  {
   "cell_type": "markdown",
   "id": "tsn6geTuBxnN",
   "metadata": {
    "id": "tsn6geTuBxnN"
   },
   "source": [
    "Para **descargar los datos**, hay **dos opciones**:\n",
    "1. Descargar los datos desde Kaggle y luego subirlos a tu Drive para poder acceder a ellos desde Colab. Si trabajas en local, simplemente descargarlos desde Kaggle y trabajar en un Jupyter Notebook.\n",
    "2. Correr la celda de abajo para descargar los datos en cache. Esta opcion es menos tediosa, pero ten en cuenta que deberas correr esta celda y descargar los datos cada vez que tu sesion en Colab expire."
   ]
  },
  {
   "cell_type": "code",
   "execution_count": 3,
   "id": "4kGYOLvE9mIa",
   "metadata": {
    "id": "4kGYOLvE9mIa"
   },
   "outputs": [
    {
     "name": "stdout",
     "output_type": "stream",
     "text": [
      "Path to dataset files: C:\\Users\\Carlos\\.cache\\kagglehub\\datasets\\anshtanwar\\pets-facial-expression-dataset\\versions\\11\n"
     ]
    }
   ],
   "source": [
    "import kagglehub\n",
    "\n",
    "# Download latest version\n",
    "path = kagglehub.dataset_download(\"anshtanwar/pets-facial-expression-dataset\")\n",
    "\n",
    "print(\"Path to dataset files:\", path)"
   ]
  },
  {
   "cell_type": "markdown",
   "id": "39fb952e",
   "metadata": {
    "id": "39fb952e"
   },
   "source": [
    "### Ej 1.1: Creación de Datasets (1 punto)\n",
    "Crea los objetos **Dataset** correspondientes a los 3 conjuntos. Como puedes ver, el árbol de directorios del dataset original es algo especial. Puede parecer complejo pero realmente es el estándar cuando se trabaja con imágenes. Debemos utilizar como directorio base el llamado \"Master Folder\".\n",
    "\n",
    "**💡Pista**: para construir los **Dataset** hay muchas opciones, pero os propongo dos:\n",
    "- Crear una clase **Dataset** personalizada que permita la lectura de los datos. Deberás desarrollar los métodos `__init__`, `__len__` y `__getitem__`.\n",
    "- Usar la clase de Torchvision **datasets.ImageFolder**. Puedes consultar su documentación [aquí](https://pytorch.org/vision/main/generated/torchvision.datasets.ImageFolder.html)."
   ]
  },
  {
   "cell_type": "code",
   "execution_count": 4,
   "id": "981608d2",
   "metadata": {
    "id": "981608d2"
   },
   "outputs": [],
   "source": [
    "from torch.utils.data import Dataset\n",
    "from torchvision import datasets, transforms"
   ]
  },
  {
   "cell_type": "markdown",
   "id": "d386e789",
   "metadata": {
    "id": "d386e789"
   },
   "source": [
    "A continuacion, utilizamos `transforms` para aplicar transformaciones a nuestros datos. Esta es una practica generalizada en el uso de redes neuronales, y en particular trabajando con imagenes. Es un preprocesamiento estandarizado. Su funcion principal es que todas las imágenes tengan el mismo tamaño, formato y escala estadística."
   ]
  },
  {
   "cell_type": "code",
   "execution_count": 5,
   "id": "494e2765",
   "metadata": {
    "id": "494e2765"
   },
   "outputs": [],
   "source": [
    "transformation = transforms.Compose([\n",
    "    transforms.Resize(224),\n",
    "    transforms.CenterCrop(224),\n",
    "    transforms.ToTensor(),\n",
    "    transforms.Normalize(mean = [0.5125,0.4667,0.4110], # Medias y medianas extraídas del dataset ImageNet\n",
    "                         std= [0.2621,0.2501,0.2453])\n",
    "])"
   ]
  },
  {
   "cell_type": "markdown",
   "id": "067fb644",
   "metadata": {},
   "source": [
    "para evitar problemas voy a correr este codigo para verificar la estructura del dataset.\n",
    "\n",
    "Verificar estructura del DataSet:"
   ]
  },
  {
   "cell_type": "code",
   "execution_count": 6,
   "id": "3618a3ce",
   "metadata": {},
   "outputs": [
    {
     "name": "stdout",
     "output_type": "stream",
     "text": [
      "📁 Estructura del dataset:\n",
      "Ruta base: C:\\Users\\Carlos\\.cache\\kagglehub\\datasets\\anshtanwar\\pets-facial-expression-dataset\\versions\\11\n",
      "📂 Angry/\n",
      "📂 happy/\n",
      "📂 Master Folder/\n",
      "   📂 test/\n",
      "   📂 train/\n",
      "   📂 valid/\n",
      "📂 Other/\n",
      "📂 Sad/\n"
     ]
    }
   ],
   "source": [
    "import os\n",
    "\n",
    "# Verificar qué carpetas existen realmente\n",
    "print(\"📁 Estructura del dataset:\")\n",
    "print(f\"Ruta base: {path}\")\n",
    "\n",
    "# Listar contenido de la ruta principal\n",
    "for item in os.listdir(path):\n",
    "    item_path = os.path.join(path, item)\n",
    "    if os.path.isdir(item_path):\n",
    "        print(f\"📂 {item}/\")\n",
    "        # Listar subcarpetas\n",
    "        for subitem in os.listdir(item_path):\n",
    "            subitem_path = os.path.join(item_path, subitem)\n",
    "            if os.path.isdir(subitem_path):\n",
    "                print(f\"   📂 {subitem}/\")"
   ]
  },
  {
   "cell_type": "markdown",
   "id": "RJ-OVS_y_kdi",
   "metadata": {
    "id": "RJ-OVS_y_kdi"
   },
   "source": [
    "Construye los **datasets** para cada conjunto de datos: train, validation y test. La funcion `transformation` **debe de ser aplicada a todos los conjuntos**."
   ]
  },
  {
   "cell_type": "code",
   "execution_count": 7,
   "id": "0c70b6da",
   "metadata": {
    "id": "0c70b6da"
   },
   "outputs": [],
   "source": [
    "data_path = path + \"/Master Folder\" # Completar\n",
    "train_dataset = datasets.ImageFolder(data_path + \"/train\", transform=transformation) # Completar\n",
    "validation_dataset = datasets.ImageFolder(data_path + \"/valid\", transform=transformation) # Completar\n",
    "test_dataset = datasets.ImageFolder(data_path + \"/test\", transform=transformation) # Completar"
   ]
  },
  {
   "cell_type": "markdown",
   "id": "bfe2409b",
   "metadata": {
    "id": "bfe2409b"
   },
   "source": [
    "### Ej 1.2: Análisis de datos (0,5 puntos)\n",
    "El análisis exploratorio de datos o *exploratory data analysis* (EDA) es la etapa que consume más tiempo y que tiene mayor complejidad e impacto en cualquier proyecto de datos. Pese a esto, el objetivo de este módulo es el desarrollo de redes neuronales y, por tanto, no dedicaremos casi tiempo al EDA.\n",
    "\n",
    "Aún así, sí que es importante que demos respuesta a preguntas básicas que nos van a permitir el correcto diseño y desarrollo de las redes.\n",
    "\n",
    "Responde a las siguientes preguntas con el código necesario para poder obtener las respuestas de los **Datasets** previamente creados:"
   ]
  },
  {
   "cell_type": "markdown",
   "id": "553b0779",
   "metadata": {
    "id": "553b0779"
   },
   "source": [
    "¿Cuántas clases tenemos en el problema?"
   ]
  },
  {
   "cell_type": "code",
   "execution_count": 8,
   "id": "8baac770",
   "metadata": {
    "id": "8baac770"
   },
   "outputs": [
    {
     "name": "stdout",
     "output_type": "stream",
     "text": [
      "Número de clases: 4\n",
      "clases: ['Angry', 'Other', 'Sad', 'happy']\n"
     ]
    }
   ],
   "source": [
    "num_classes = len(train_dataset.classes)\n",
    "print(f\"Número de clases: {num_classes}\")\n",
    "print(f\"clases: {train_dataset.classes}\")"
   ]
  },
  {
   "cell_type": "markdown",
   "id": "31fa38d8",
   "metadata": {
    "id": "31fa38d8"
   },
   "source": [
    "¿Qué forma tiene una label? ¿De qué tipo es?"
   ]
  },
  {
   "cell_type": "code",
   "execution_count": 9,
   "id": "6b67909a",
   "metadata": {
    "id": "6b67909a"
   },
   "outputs": [
    {
     "name": "stdout",
     "output_type": "stream",
     "text": [
      "Tipo de label: <class 'int'>\n",
      "valor de label: 0\n"
     ]
    }
   ],
   "source": [
    "sample_image, sample_label = train_dataset[0] # Accede al primer elemento del dataset (imagen + etiqueta) y desempaqueta la tupla en imagen y etiqueta.\n",
    "print(f\"Tipo de label: {type(sample_label)}\") # verifico el tipo de dato con la función type()\n",
    "print(f\"valor de label: {sample_label}\") # muestra el valor numérico de la etiqueta"
   ]
  },
  {
   "cell_type": "markdown",
   "id": "13146689",
   "metadata": {
    "id": "13146689"
   },
   "source": [
    "¿Cuántos registros tenemos en cada conjunto?"
   ]
  },
  {
   "cell_type": "code",
   "execution_count": 10,
   "id": "c8cf5fae",
   "metadata": {
    "id": "c8cf5fae"
   },
   "outputs": [
    {
     "name": "stdout",
     "output_type": "stream",
     "text": [
      "Train: 1000 imágenes\n",
      "Validation: 36 imágenes\n",
      "Test: 38 imágenes\n",
      "Total: 1074 imágenes\n"
     ]
    }
   ],
   "source": [
    "print(f\"Train: {len(train_dataset)} imágenes\")\n",
    "print(f\"Validation: {len(validation_dataset)} imágenes\")\n",
    "print(f\"Test: {len(test_dataset)} imágenes\")\n",
    "print(f\"Total: {len(train_dataset) + len(validation_dataset) + len(test_dataset)} imágenes\")"
   ]
  },
  {
   "cell_type": "markdown",
   "id": "fe4d85db",
   "metadata": {
    "id": "fe4d85db"
   },
   "source": [
    "¿Están los conjuntos balanceados?"
   ]
  },
  {
   "cell_type": "code",
   "execution_count": 11,
   "id": "5e39e9a9",
   "metadata": {
    "id": "5e39e9a9"
   },
   "outputs": [
    {
     "name": "stdout",
     "output_type": "stream",
     "text": [
      "Distribución de train: {0: 250, 1: 250, 2: 250, 3: 250}\n",
      "\n",
      "Análisis de balance:\n",
      "Clase 'Angry': 250 imágenes (25.0%)\n",
      "Clase 'Other': 250 imágenes (25.0%)\n",
      "Clase 'Sad': 250 imágenes (25.0%)\n",
      "Clase 'happy': 250 imágenes (25.0%)\n"
     ]
    }
   ],
   "source": [
    "\n",
    "from collections import Counter\n",
    "\n",
    "# Extraer todas las etiquetas del conjunto de entrenamiento\n",
    "train_labels = [train_dataset[i][1] for i in range(len(train_dataset))]\n",
    "train_distribution = Counter(train_labels)\n",
    "print(\"Distribución de train:\", dict(train_distribution))\n",
    "\n",
    "# Análisis de balance\n",
    "print(\"\\nAnálisis de balance:\")\n",
    "total_samples = len(train_dataset)\n",
    "for class_idx, count in train_distribution.items():\n",
    "    class_name = train_dataset.classes[class_idx]\n",
    "    percentage = (count / total_samples) * 100\n",
    "    print(f\"Clase '{class_name}': {count} imágenes ({percentage:.1f}%)\")\n"
   ]
  },
  {
   "cell_type": "markdown",
   "id": "S3hBrS5rBNa8",
   "metadata": {
    "id": "S3hBrS5rBNa8"
   },
   "source": [
    "En este caso el dataset está está en un estado óptimo de balanceo, muy bien balanceado. Se considera que un dataset está suficientemente balanceado cuando sus clases están más o menos igualadas. 4 clases con una diferencia de < 10% se considera bueno. diferencia de < 20% se considera aceptable. Con una diferencia mayor el dataset requeriría técnicas de balanceo. Entonces, digamos que una tolerancia de +-10% sería aceptable. Pero en este caso que nos ocupa, tenemos un balanceo óptimo."
   ]
  },
  {
   "cell_type": "markdown",
   "id": "285245c7",
   "metadata": {
    "id": "285245c7"
   },
   "source": [
    "¿Qué forma tienen los datos de entrada? ¿De qué tipo son?"
   ]
  },
  {
   "cell_type": "code",
   "execution_count": 12,
   "id": "cb355f60",
   "metadata": {
    "id": "cb355f60"
   },
   "outputs": [
    {
     "name": "stdout",
     "output_type": "stream",
     "text": [
      "Forma de imagen: torch.Size([3, 224, 224])\n",
      "Tipo de datos: torch.float32\n",
      "Rango de valores: [-1.686, 1.570]\n",
      "\n",
      "Interpretación:\n",
      "- Canales: 3 (RGB)\n",
      "- Alto: 224 píxeles\n",
      "- Ancho: 224 píxeles\n",
      "- Total píxeles por imagen (Alto x Ancho): 50176\n"
     ]
    }
   ],
   "source": [
    "# Respuesta aquí\n",
    "\n",
    "sample_image, _ = train_dataset[0] # obtiene la primera muestra (imagegn + etiqueta) e ignora la etiqueta con \"_\"\n",
    "print(f\"Forma de imagen: {sample_image.shape}\") # Muestra la dimensión del tensor (canales, alto, ancho)\n",
    "print(f\"Tipo de datos: {sample_image.dtype}\") # tipo de dato del tensor\n",
    "print(f\"Rango de valores: [{sample_image.min():.3f}, {sample_image.max():.3f}]\") # Valores mínimo y máximo después de las transformaciones\n",
    "\n",
    "print(\"\\nInterpretación:\")\n",
    "print(f\"- Canales: {sample_image.shape[0]} (RGB)\")\n",
    "print(f\"- Alto: {sample_image.shape[1]} píxeles\")\n",
    "print(f\"- Ancho: {sample_image.shape[2]} píxeles\")\n",
    "print(f\"- Total píxeles por imagen (Alto x Ancho): {sample_image.shape[1] * sample_image.shape[2]}\")"
   ]
  },
  {
   "cell_type": "markdown",
   "id": "aa283b85",
   "metadata": {
    "id": "aa283b85"
   },
   "source": [
    "### Ej 1.3: Creación de DataLoaders (1 punto)\n",
    "Crea los tres **DataLoader** correspondientes a los tres **Datasets** previamente creados:\n",
    "- *train_dataloder*: Para los datos de *train_dataset*.\n",
    "- *validation_dataloder*: Para los datos de *validation_dataset*.\n",
    "- *validation_dataloder*: Para los datos de *validation_dataset*.\n",
    "\n",
    "Utiliza **batches de tamaño 64** y recuerda **mezclar** los datos en la creación."
   ]
  },
  {
   "cell_type": "code",
   "execution_count": 13,
   "id": "54fb271c",
   "metadata": {
    "id": "54fb271c"
   },
   "outputs": [],
   "source": [
    "from torch.utils.data import DataLoader"
   ]
  },
  {
   "cell_type": "code",
   "execution_count": 14,
   "id": "2ee06c03",
   "metadata": {
    "id": "2ee06c03"
   },
   "outputs": [],
   "source": [
    "# creación de los batches con un tamaño de 64 y shuffle=True mezcla las muestras aleatoriamente y que en cada época el orden sea random.\n",
    "\n",
    "train_dataloader = DataLoader(train_dataset, batch_size=64, shuffle=True) # Completar\n",
    "validation_dataloader = DataLoader(validation_dataset, batch_size=64, shuffle=True) # Completar\n",
    "test_dataloader = DataLoader(test_dataset, batch_size=64, shuffle=True) # Completar"
   ]
  },
  {
   "cell_type": "markdown",
   "id": "21ba9894",
   "metadata": {
    "id": "21ba9894"
   },
   "source": [
    "##### ¿Cuántos batches se han creado en cada DataLoader?"
   ]
  },
  {
   "cell_type": "code",
   "execution_count": 15,
   "id": "f285fcce",
   "metadata": {
    "id": "f285fcce"
   },
   "outputs": [
    {
     "name": "stdout",
     "output_type": "stream",
     "text": [
      "\n",
      "Los DataLoaders creados con batches de 64 son los siguientes:\n",
      "\n",
      "  - Train DataLoader tiene:      >> 16 <<  batches\n",
      "  - Validation DataLoader tiene: >>  1 <<  batches\n",
      "  - Test DataLoader:             >>  1 <<  batches\n"
     ]
    }
   ],
   "source": [
    "print(\"\\nLos DataLoaders creados con batches de 64 son los siguientes:\")\n",
    "print(f\"\\n  - Train DataLoader tiene:      >> {len(train_dataloader)} <<  batches\")\n",
    "print(f\"  - Validation DataLoader tiene: >>  {len(validation_dataloader)} <<  batches\")\n",
    "print(f\"  - Test DataLoader:             >>  {len(test_dataloader)} <<  batches\")"
   ]
  },
  {
   "cell_type": "markdown",
   "id": "19802b90",
   "metadata": {},
   "source": [
    "Copmentario:\n",
    "\n",
    "Los 16 batches del Train ayudan a hacer un entrenamiento robusto con variabilidad. Validation y Test solo tienen 1 bath cada uno y puede parecer pequeño, pero es preferible asegurar un entrenamiento correcto."
   ]
  },
  {
   "cell_type": "markdown",
   "id": "22cb4ba9",
   "metadata": {
    "id": "22cb4ba9"
   },
   "source": [
    "## Ej 2. Entrenamiento red neuronal clasica (2,5 puntos)\n",
    "El problema que estamos enfrentando hace uso de imágenes como datos de entrada. Como ya veremos más adelante tanto en la teoría como en esta actividad, existen arquitecturas de red optimizadas para los datos de este tipo. Aún así, y para comparar ambas aproximaciones, el segundo ejercicio consiste en diseñar y desarrollar una red clasica que trabaje con imágenes y que cumpla los siguientes requisitos:\n",
    "- 2 capas ocultas. La primera con 512 y la segunda con 256 neuronas.\n",
    "- Como función de activación se hará uso siempre de ReLUs.\n",
    "- El optimizador será *ADAM*  con *learning_rate* = 1e-5.\n",
    "- Ajustar la capa de salida al problema que estamos enfrentando."
   ]
  },
  {
   "cell_type": "markdown",
   "id": "22f84fc8",
   "metadata": {
    "id": "22f84fc8"
   },
   "source": [
    "El objetivo ahora es definir la red neuronal en PyTorch. Implementa el codigo con la arquitectura solicitada en la clase `NNModel`."
   ]
  },
  {
   "cell_type": "code",
   "execution_count": 16,
   "id": "4ef0122d",
   "metadata": {
    "id": "4ef0122d"
   },
   "outputs": [],
   "source": [
    "from torch import nn\n",
    "\n",
    "class NNModel(nn.Module):\n",
    "    '''Esta clase define la estructura de la red neuronal:'''\n",
    "    def __init__(self):\n",
    "        '''El constructor __init__(self) define qué componentes tiene la red.'''\n",
    "        \n",
    "        super(NNModel, self).__init__()\n",
    "        '''Inicializa la clase padre (nn.Module) que toma del import de la librería \"torch\" en la primera línea'''\n",
    "        \n",
    "        self.flatten = nn.Flatten() \n",
    "        '''Este paso convierte la imagen de 3D a un vector 1D'''\n",
    "        \n",
    "        self.fc1 = nn.Linear(224 * 224 * 3, 512)\n",
    "        '''Crea la primera capa oculta de 512 neuronas. Con \"self.fc1\", \"fc1\" se usa por convención \n",
    "        y significa \"fully connected\". Cada neurona recibe todos los píxeles de la capa de entrada \n",
    "        pero cada una analiza un patrón específico y diferente de las otras.''' \n",
    "        \n",
    "        self.relu1 = nn.ReLU()\n",
    "        '''Los datos pasan luego a la \"Función de activación 'no-lineal' ReLU\" la cual decide \n",
    "        si una neurona se \"activa\" o no'''\n",
    "        \n",
    "        self.fc2 = nn.Linear(512,256)\n",
    "        '''Segunda capa oculta, \"fc2\" crea una segunda capa oculta \"fully connected\". Esta recibe\n",
    "        los datos de las 512 neuronas de la primera capa oculta.  '''\n",
    "        self.relu2 = nn.ReLU()\n",
    "        '''El mismo paso que el anterior'''\n",
    "        \n",
    "        self.fc3 = nn.Linear(256, num_classes)\n",
    "        '''Crea una capa de 4 neuronas con \"num_classes\", y es también la capa de salida: Toma los datos \n",
    "        de la segunda capa oculta de 256 neuronas. No es necesario usar ReLU.  '''\n",
    "        \n",
    "        \n",
    "\n",
    "    def forward(self, x):\n",
    "        '''Este método define cómo tiene que ser el flujo de información a través de la red'''\n",
    "        x = self.flatten(x)\n",
    "        \n",
    "        x = self.fc1(x)\n",
    "        x = self.relu1(x)\n",
    "        \n",
    "        x = self.fc2(x)\n",
    "        x = self.relu2(x)\n",
    "        \n",
    "        x = self.fc3(x)\n",
    "        \n",
    "        return x\n",
    "    "
   ]
  },
  {
   "cell_type": "markdown",
   "id": "b72274af",
   "metadata": {
    "id": "b72274af"
   },
   "source": [
    "Instancia la red en la variable `nn_model`:"
   ]
  },
  {
   "cell_type": "code",
   "execution_count": 17,
   "id": "73aa0a9d",
   "metadata": {
    "id": "73aa0a9d"
   },
   "outputs": [
    {
     "name": "stdout",
     "output_type": "stream",
     "text": [
      "- Modelo creado y movido a cuda\n",
      "- Tipo de modelo: <class '__main__.NNModel'>\n"
     ]
    },
    {
     "data": {
      "text/plain": [
       "'Este paso crea una isntancia de la clase NNModel creada en el paso anterior. Ejecuta el metodo __init__() y crea todas las capas.\\nDespués mueve el modelo a pa GPU'"
      ]
     },
     "execution_count": 17,
     "metadata": {},
     "output_type": "execute_result"
    }
   ],
   "source": [
    "nn_model = NNModel()\n",
    "nn_model = nn_model.to(device)\n",
    "print(f\"- Modelo creado y movido a {device}\")\n",
    "print(f\"- Tipo de modelo: {type(nn_model)}\")\n",
    "\n",
    "'''Este paso crea una isntancia de la clase NNModel creada en el paso anterior. Ejecuta el metodo __init__() y crea todas las capas.\n",
    "Después mueve el modelo a pa GPU'''"
   ]
  },
  {
   "cell_type": "markdown",
   "id": "adc8d6e9",
   "metadata": {
    "id": "adc8d6e9"
   },
   "source": [
    "¿Cuántos parámetros entrenables tiene el modelo? Implementa el codigo que de respuesta a esta pregunta."
   ]
  },
  {
   "cell_type": "code",
   "execution_count": 18,
   "id": "615f4836",
   "metadata": {
    "id": "615f4836"
   },
   "outputs": [
    {
     "name": "stdout",
     "output_type": "stream",
     "text": [
      "Desglose de parámetros por capa:\n",
      "----------------------------------------\n",
      "fc1.weight  : 77,070,336 parámetros\n",
      "fc1.bias    :        512 parámetros\n",
      "fc2.weight  :    131,072 parámetros\n",
      "fc2.bias    :        256 parámetros\n",
      "fc3.weight  :      1,024 parámetros\n",
      "fc3.bias    :          4 parámetros\n",
      "----------------------------------------\n",
      "total       : 77,203,204 parámetros\n",
      "\n",
      ">>> RESPUESTA = El modelo tiene --> 77,203,204 <-- Parámetros entrenables\n"
     ]
    }
   ],
   "source": [
    "def contar_parametros(modelo):\n",
    "    \"\"\"     Cuenta y muestra los parámetros entrenables del modelo      \"\"\"\n",
    "    parametros_totales = 0\n",
    "    parametros_entrenables = 0\n",
    "    \n",
    "    print(\"Desglose de parámetros por capa:\")\n",
    "    print(\"-\" * 40)\n",
    "    \n",
    "    for nombre, parametro in modelo.named_parameters():\n",
    "        cantidad = parametro.numel()\n",
    "        parametros_totales += cantidad\n",
    "        \n",
    "        if parametro.requires_grad:\n",
    "            parametros_entrenables += cantidad\n",
    "            print(f\"{nombre:12s}: {cantidad:>10,} parámetros\")\n",
    "    \n",
    "    print(\"-\" * 40)\n",
    "    print(f\"total       : {parametros_totales:>10,} parámetros\")\n",
    "    print(f\"\\n>>> RESPUESTA = El modelo tiene --> {parametros_entrenables:>10,} <-- Parámetros entrenables\")\n",
    "    \n",
    "    return parametros_entrenables\n",
    "\n",
    "\n",
    "parametros_entrenables = contar_parametros(nn_model)\n"
   ]
  },
  {
   "cell_type": "markdown",
   "id": "14246f71",
   "metadata": {
    "id": "14246f71"
   },
   "source": [
    "Define el **optimizador** solicitado en la variable `nn_optimizer`:"
   ]
  },
  {
   "cell_type": "code",
   "execution_count": 19,
   "id": "d0a78b4d",
   "metadata": {
    "id": "d0a78b4d"
   },
   "outputs": [
    {
     "name": "stdout",
     "output_type": "stream",
     "text": [
      "Optimizador configurado: ADAM\n",
      "Learning rate: 1e-05\n",
      "Optimizando 77,203,204 parámetros\n"
     ]
    }
   ],
   "source": [
    "'''En este paso se crea un objeto ADAM con el optimizador especificado en el enunciado es ADAM,\n",
    "que sabe qué datos entrenar, los parámetros (77,203,204), y sasbe qué tan rápido hacerlo con\n",
    "el learning rate especificado 1e-5'''\n",
    "\n",
    "nn_optimizer = torch.optim.Adam(nn_model.parameters(), lr=1e-5) \n",
    "print(f\"Optimizador configurado: ADAM\") \n",
    "print(f\"Learning rate: {1e-5}\")\n",
    "print(f\"Optimizando {parametros_entrenables:>10,} parámetros\")"
   ]
  },
  {
   "cell_type": "markdown",
   "id": "f7862408",
   "metadata": {
    "id": "f7862408"
   },
   "source": [
    "¿Qué **función de coste** será óptima en el problema que estamos enfrentando?\n",
    "Instancia la función de coste elegida en una variable de nombre `nn_loss_fn`:"
   ]
  },
  {
   "cell_type": "code",
   "execution_count": 20,
   "id": "da4a16d8",
   "metadata": {
    "id": "da4a16d8"
   },
   "outputs": [
    {
     "name": "stdout",
     "output_type": "stream",
     "text": [
      "Función de pérdida configurada: CrossEntropyLoss\n",
      "Tipo: <class 'torch.nn.modules.loss.CrossEntropyLoss'>\n"
     ]
    },
    {
     "data": {
      "text/plain": [
       "'CrossEntroyLoss es la función de coste más adecuada para una clasificación multiclase con\\nuna sola etiqueta correcta. Hay 4 clases que se excluyen mutuamente \"Angry, Other, Sad, Happy\". '"
      ]
     },
     "execution_count": 20,
     "metadata": {},
     "output_type": "execute_result"
    }
   ],
   "source": [
    "nn_loss_fn = nn.CrossEntropyLoss()\n",
    "print(f\"Función de pérdida configurada: CrossEntropyLoss\")\n",
    "print(f\"Tipo: {type(nn_loss_fn)}\")\n",
    "'''CrossEntroyLoss es la función de coste más adecuada para una clasificación multiclase con\n",
    "una sola etiqueta correcta. Hay 4 clases que se excluyen mutuamente \"Angry, Other, Sad, Happy\". '''"
   ]
  },
  {
   "cell_type": "markdown",
   "id": "de691cd9",
   "metadata": {
    "id": "de691cd9"
   },
   "source": [
    "Ahora toca implementar la logica detras del **entrenamiento**. Desarrolla el método para entrenar el módelo una época, mostrando y devolviendo tanto `loss` medio de todos los batches de entrenamiento como el `accuracy`. La funcion esta pensada para que se pueda entrenar cualquier modelo.\n",
    "\n",
    "**IMPORTANTE**: Respeta las entradas y las salidas previstas para el método `training`."
   ]
  },
  {
   "cell_type": "code",
   "execution_count": 21,
   "id": "bca8f650",
   "metadata": {
    "id": "bca8f650"
   },
   "outputs": [],
   "source": [
    "def training(dataloader, model, loss_fn, optimizer):\n",
    "\n",
    "    model.train() # Indicamos al modelo que vamos a entrenar\n",
    "    \n",
    "    # variables para acumular métricas\n",
    "    perdida_total = 0.0\n",
    "    predicciones_correctas = 0\n",
    "    muestras_totales = 0\n",
    "    \n",
    "    # Iterar por todos los batches del dataloader\n",
    "    for indice_batch, (imagenes, etiquetas) in enumerate(dataloader):\n",
    "        # Mover datos a GPU/CPU según corresponda\n",
    "        imagenes, etiquetas = imagenes.to(device), etiquetas.to(device)\n",
    "        \n",
    "        # Forward pass: obtener predicciones\n",
    "        predicciones = model(imagenes)\n",
    "        \n",
    "        # Calcular pérdida\n",
    "        loss = loss_fn(predicciones, etiquetas)\n",
    "        \n",
    "        # Backward pass: calcular gradientes\n",
    "        optimizer.zero_grad()  # Limpiar gradientes previos\n",
    "        loss.backward()        # Calcular gradientes\n",
    "        optimizer.step()       # Actualizar pesos\n",
    "        \n",
    "        # Calcular métricas\n",
    "        perdida_total += loss.item()\n",
    "        _, clases_predichas = torch.max(predicciones, 1)\n",
    "        predicciones_correctas += (clases_predichas == etiquetas).sum().item()\n",
    "        muestras_totales += etiquetas.size(0)\n",
    "    \n",
    "    # Calcular métricas promedio\n",
    "    avg_train_loss = perdida_total / len(dataloader)\n",
    "    accuracy = 100.0 * predicciones_correctas / muestras_totales\n",
    "    \n",
    "    print(f\"Train Metrics: \\n Accuracy: {accuracy:>0.1f}%, Avg train loss: {avg_train_loss:>8f}\\n\")\n",
    "    return avg_train_loss, accuracy"
   ]
  },
  {
   "cell_type": "markdown",
   "id": "6b39a734",
   "metadata": {
    "id": "6b39a734"
   },
   "source": [
    "A continuacion, crearemos la funcion para computar las metricas en los conjuntos de validation y test.\n",
    "Aunque no siempre es así, asumiremos que el método para validación y test será el mismo. La única diferencia será el uso del **DataLoader** específico para cada etapa (e.g., para evaluar el conjunto de test, se pasaria como dataloader el dataloader del `test_dataset`). El método deberá **mostrar y devolver** tanto el `loss` promedio de los batches como el `accuracy` total del modelo."
   ]
  },
  {
   "cell_type": "code",
   "execution_count": 22,
   "id": "fc9b6109",
   "metadata": {
    "id": "fc9b6109"
   },
   "outputs": [],
   "source": [
    "def test_and_validation(dataloader, model, loss_fn):\n",
    "\n",
    "    model.eval() # Indicamos que no vamos a entrenar\n",
    "\n",
    "    perdida_total = 0.0\n",
    "    predicciones_correctas = 0\n",
    "    muestras_totales = 0\n",
    "    \n",
    "    # Sin cálculo de gradientes porque solo evaluamos\n",
    "    with torch.no_grad():\n",
    "        \n",
    "        for imagenes, etiquetas in dataloader: # Iterar por todos los batches del dataloader\n",
    "           \n",
    "            imagenes, etiquetas = imagenes.to(device), etiquetas.to(device)  # Mover datos a GPU/CPU según corresponda\n",
    "            predicciones = model(imagenes) # Forward pass SOLAMENTE (sin backward)\n",
    "            loss = loss_fn(predicciones, etiquetas) # Calcular pérdida (solo para métricas)\n",
    "            \n",
    "            # Acumular métricas\n",
    "            perdida_total += loss.item()\n",
    "            _, clases_predichas = torch.max(predicciones, 1)\n",
    "            predicciones_correctas += (clases_predichas == etiquetas).sum().item()\n",
    "            muestras_totales += etiquetas.size(0)\n",
    "    \n",
    "    # Calcular métricas promedio\n",
    "    avg_loss = perdida_total / len(dataloader)\n",
    "    accuracy = 100.0 * predicciones_correctas / muestras_totales\n",
    "    \n",
    "    print(f\"Val or Test Metrics: \\n Accuracy: {accuracy:>0.1f}%, Avg loss: {avg_loss:>8f} \\n\")\n",
    "    return avg_loss, accuracy"
   ]
  },
  {
   "cell_type": "markdown",
   "id": "1922c790",
   "metadata": {
    "id": "1922c790"
   },
   "source": [
    "Llegó la hora del **entrenamiento**. Entrena el `NNModel` durante **15 épocas** mostrando y almacenando los resultados en los arrays `nn_model_train_losses`, `nn_model_train_accs`,  `nn_model_val_losses` y `nn_model_val_accs` los resultados de train y validación en cada una de ellas.\n",
    "\n",
    "Recuerda que el conjunto de **validación** se evalúa al final de cada época para medir el rendimiento del modelo en datos no vistos, sin influir en el ajuste de los pesos."
   ]
  },
  {
   "cell_type": "code",
   "execution_count": 23,
   "id": "09e4020b",
   "metadata": {
    "id": "09e4020b"
   },
   "outputs": [
    {
     "name": "stdout",
     "output_type": "stream",
     "text": [
      "🚀 INICIANDO ENTRENAMIENTO DE RED NEURONAL CLÁSICA\n",
      "Configuración: 15 épocas, batch_size=64, lr=1e-5\n",
      "============================================================\n",
      "Epoch 1/15\n",
      "-------------------------------\n",
      "Train Metrics: \n",
      " Accuracy: 33.4%, Avg train loss: 1.367481\n",
      "\n",
      "Val or Test Metrics: \n",
      " Accuracy: 36.1%, Avg loss: 1.423822 \n",
      "\n",
      "RESUMEN ÉPOCA 1:\n",
      "   Train - Loss: 1.3675, Accuracy: 33.4%\n",
      "   Val   - Loss: 1.4238, Accuracy: 36.1%\n",
      "============================================================\n",
      "Epoch 2/15\n",
      "-------------------------------\n",
      "Train Metrics: \n",
      " Accuracy: 52.7%, Avg train loss: 1.128317\n",
      "\n",
      "Val or Test Metrics: \n",
      " Accuracy: 33.3%, Avg loss: 1.367598 \n",
      "\n",
      "RESUMEN ÉPOCA 2:\n",
      "   Train - Loss: 1.1283, Accuracy: 52.7%\n",
      "   Val   - Loss: 1.3676, Accuracy: 33.3%\n",
      "============================================================\n",
      "Epoch 3/15\n",
      "-------------------------------\n",
      "Train Metrics: \n",
      " Accuracy: 68.1%, Avg train loss: 0.941832\n",
      "\n",
      "Val or Test Metrics: \n",
      " Accuracy: 33.3%, Avg loss: 1.434863 \n",
      "\n",
      "RESUMEN ÉPOCA 3:\n",
      "   Train - Loss: 0.9418, Accuracy: 68.1%\n",
      "   Val   - Loss: 1.4349, Accuracy: 33.3%\n",
      "============================================================\n",
      "Epoch 4/15\n",
      "-------------------------------\n",
      "Train Metrics: \n",
      " Accuracy: 77.3%, Avg train loss: 0.802401\n",
      "\n",
      "Val or Test Metrics: \n",
      " Accuracy: 33.3%, Avg loss: 1.414206 \n",
      "\n",
      "RESUMEN ÉPOCA 4:\n",
      "   Train - Loss: 0.8024, Accuracy: 77.3%\n",
      "   Val   - Loss: 1.4142, Accuracy: 33.3%\n",
      "============================================================\n",
      "Epoch 5/15\n",
      "-------------------------------\n",
      "Train Metrics: \n",
      " Accuracy: 83.4%, Avg train loss: 0.680104\n",
      "\n",
      "Val or Test Metrics: \n",
      " Accuracy: 30.6%, Avg loss: 1.481475 \n",
      "\n",
      "RESUMEN ÉPOCA 5:\n",
      "   Train - Loss: 0.6801, Accuracy: 83.4%\n",
      "   Val   - Loss: 1.4815, Accuracy: 30.6%\n",
      "============================================================\n",
      "Epoch 6/15\n",
      "-------------------------------\n",
      "Train Metrics: \n",
      " Accuracy: 88.1%, Avg train loss: 0.589593\n",
      "\n",
      "Val or Test Metrics: \n",
      " Accuracy: 25.0%, Avg loss: 1.464234 \n",
      "\n",
      "RESUMEN ÉPOCA 6:\n",
      "   Train - Loss: 0.5896, Accuracy: 88.1%\n",
      "   Val   - Loss: 1.4642, Accuracy: 25.0%\n",
      "============================================================\n",
      "Epoch 7/15\n",
      "-------------------------------\n",
      "Train Metrics: \n",
      " Accuracy: 92.9%, Avg train loss: 0.495108\n",
      "\n",
      "Val or Test Metrics: \n",
      " Accuracy: 27.8%, Avg loss: 1.433735 \n",
      "\n",
      "RESUMEN ÉPOCA 7:\n",
      "   Train - Loss: 0.4951, Accuracy: 92.9%\n",
      "   Val   - Loss: 1.4337, Accuracy: 27.8%\n",
      "============================================================\n",
      "Epoch 8/15\n",
      "-------------------------------\n",
      "Train Metrics: \n",
      " Accuracy: 94.6%, Avg train loss: 0.427208\n",
      "\n",
      "Val or Test Metrics: \n",
      " Accuracy: 30.6%, Avg loss: 1.435272 \n",
      "\n",
      "RESUMEN ÉPOCA 8:\n",
      "   Train - Loss: 0.4272, Accuracy: 94.6%\n",
      "   Val   - Loss: 1.4353, Accuracy: 30.6%\n",
      "============================================================\n",
      "Epoch 9/15\n",
      "-------------------------------\n",
      "Train Metrics: \n",
      " Accuracy: 96.9%, Avg train loss: 0.367435\n",
      "\n",
      "Val or Test Metrics: \n",
      " Accuracy: 30.6%, Avg loss: 1.521981 \n",
      "\n",
      "RESUMEN ÉPOCA 9:\n",
      "   Train - Loss: 0.3674, Accuracy: 96.9%\n",
      "   Val   - Loss: 1.5220, Accuracy: 30.6%\n",
      "============================================================\n",
      "Epoch 10/15\n",
      "-------------------------------\n",
      "Train Metrics: \n",
      " Accuracy: 97.3%, Avg train loss: 0.322919\n",
      "\n",
      "Val or Test Metrics: \n",
      " Accuracy: 33.3%, Avg loss: 1.518206 \n",
      "\n",
      "RESUMEN ÉPOCA 10:\n",
      "   Train - Loss: 0.3229, Accuracy: 97.3%\n",
      "   Val   - Loss: 1.5182, Accuracy: 33.3%\n",
      "============================================================\n",
      "Epoch 11/15\n",
      "-------------------------------\n",
      "Train Metrics: \n",
      " Accuracy: 97.0%, Avg train loss: 0.288959\n",
      "\n",
      "Val or Test Metrics: \n",
      " Accuracy: 33.3%, Avg loss: 1.519938 \n",
      "\n",
      "RESUMEN ÉPOCA 11:\n",
      "   Train - Loss: 0.2890, Accuracy: 97.0%\n",
      "   Val   - Loss: 1.5199, Accuracy: 33.3%\n",
      "============================================================\n",
      "Epoch 12/15\n",
      "-------------------------------\n",
      "Train Metrics: \n",
      " Accuracy: 97.0%, Avg train loss: 0.273773\n",
      "\n",
      "Val or Test Metrics: \n",
      " Accuracy: 30.6%, Avg loss: 1.516041 \n",
      "\n",
      "RESUMEN ÉPOCA 12:\n",
      "   Train - Loss: 0.2738, Accuracy: 97.0%\n",
      "   Val   - Loss: 1.5160, Accuracy: 30.6%\n",
      "============================================================\n",
      "Epoch 13/15\n",
      "-------------------------------\n",
      "Train Metrics: \n",
      " Accuracy: 98.3%, Avg train loss: 0.228551\n",
      "\n",
      "Val or Test Metrics: \n",
      " Accuracy: 30.6%, Avg loss: 1.551118 \n",
      "\n",
      "RESUMEN ÉPOCA 13:\n",
      "   Train - Loss: 0.2286, Accuracy: 98.3%\n",
      "   Val   - Loss: 1.5511, Accuracy: 30.6%\n",
      "============================================================\n",
      "Epoch 14/15\n",
      "-------------------------------\n",
      "Train Metrics: \n",
      " Accuracy: 99.4%, Avg train loss: 0.195739\n",
      "\n",
      "Val or Test Metrics: \n",
      " Accuracy: 30.6%, Avg loss: 1.524621 \n",
      "\n",
      "RESUMEN ÉPOCA 14:\n",
      "   Train - Loss: 0.1957, Accuracy: 99.4%\n",
      "   Val   - Loss: 1.5246, Accuracy: 30.6%\n",
      "============================================================\n",
      "Epoch 15/15\n",
      "-------------------------------\n",
      "Train Metrics: \n",
      " Accuracy: 99.4%, Avg train loss: 0.173679\n",
      "\n",
      "Val or Test Metrics: \n",
      " Accuracy: 33.3%, Avg loss: 1.605949 \n",
      "\n",
      "RESUMEN ÉPOCA 15:\n",
      "   Train - Loss: 0.1737, Accuracy: 99.4%\n",
      "   Val   - Loss: 1.6059, Accuracy: 33.3%\n",
      "============================================================\n",
      "ENTRENAMIENTO COMPLETADO\n"
     ]
    }
   ],
   "source": [
    "nn_model_train_losses, nn_model_train_accs, nn_model_val_losses, nn_model_val_accs = [],[],[],[]\n",
    "epochs =  15 # Completar\n",
    "\n",
    "print(\"🚀 INICIANDO ENTRENAMIENTO DE RED NEURONAL CLÁSICA\")\n",
    "print(f\"Configuración: {epochs} épocas, batch_size=64, lr=1e-5\")\n",
    "print(\"=\" * 60)\n",
    "\n",
    "for t in range(epochs):\n",
    "    print(f\"Epoch {t+1}/{epochs}\\n-------------------------------\")\n",
    "\n",
    "    # ENTRENAMIENTO: usar conjunto de train\n",
    "    train_loss, train_acc = training(train_dataloader, nn_model, nn_loss_fn, nn_optimizer)\n",
    "    \n",
    "    # Guardar métricas de entrenamiento\n",
    "    nn_model_train_losses.append(train_loss)\n",
    "    nn_model_train_accs.append(train_acc)\n",
    "    \n",
    "    # VALIDACIÓN: evaluar en conjunto de validación\n",
    "    val_loss, val_acc = test_and_validation(validation_dataloader, nn_model, nn_loss_fn)\n",
    "    \n",
    "    # Guardar métricas de validación\n",
    "    nn_model_val_losses.append(val_loss)\n",
    "    nn_model_val_accs.append(val_acc)\n",
    "    \n",
    "    # Resumen de la época\n",
    "    print(f\"RESUMEN ÉPOCA {t+1}:\")\n",
    "    print(f\"   Train - Loss: {train_loss:.4f}, Accuracy: {train_acc:.1f}%\")\n",
    "    print(f\"   Val   - Loss: {val_loss:.4f}, Accuracy: {val_acc:.1f}%\")\n",
    "    print(\"=\" * 60)\n",
    "\n",
    "print(\"ENTRENAMIENTO COMPLETADO\")"
   ]
  },
  {
   "cell_type": "markdown",
   "id": "4ec2eec8",
   "metadata": {
    "id": "4ec2eec8"
   },
   "source": [
    "¿Cuáles son las métricas del modelo en el **conjunto de test**? Implementa el codigo para obtener las metricas sobre el conjunto de test."
   ]
  },
  {
   "cell_type": "code",
   "execution_count": 24,
   "id": "2cecbae8",
   "metadata": {
    "id": "2cecbae8"
   },
   "outputs": [
    {
     "name": "stdout",
     "output_type": "stream",
     "text": [
      "  EVALUACIÓN FINAL EN CONJUNTO DE TEST\n",
      "========================================\n",
      "Val or Test Metrics: \n",
      " Accuracy: 23.7%, Avg loss: 2.278031 \n",
      "\n",
      "MÉTRICAS FINALES - RED NEURONAL CLÁSICA:\n",
      "Test Loss: 2.2780\n",
      "Test Accuracy: 23.7%\n",
      "========================================\n",
      "COMPARACIÓN DE RENDIMIENTO:\n",
      "Accuracy aleatoria: 25.0%\n",
      "Accuracy en train: 99.4%\n",
      "Accuracy en validation: 33.3%\n",
      "Accuracy en test: 23.7%\n",
      "\n",
      "----------------------------------------\n",
      "        DIAGNÓSTICO:\n",
      "----------------------------------------\n",
      "Diferencia train-test: 75.7 puntos porcentuales\n",
      ">>>  ⚠️ OVERFITTING SEVERO detectado  <<<\n",
      "----------------------------------------\n"
     ]
    }
   ],
   "source": [
    "print(\"  EVALUACIÓN FINAL EN CONJUNTO DE TEST\")\n",
    "print(\"=\" * 40)\n",
    "\n",
    "# Evaluar modelo en test usando la función que ya definimos\n",
    "test_loss, test_accuracy = test_and_validation(test_dataloader, nn_model, nn_loss_fn)\n",
    "\n",
    "print(f\"MÉTRICAS FINALES - RED NEURONAL CLÁSICA:\")\n",
    "print(f\"Test Loss: {test_loss:.4f}\")\n",
    "print(f\"Test Accuracy: {test_accuracy:.1f}%\")\n",
    "print(\"=\" * 40)\n",
    "\n",
    "# Análisis comparativo\n",
    "print(f\"COMPARACIÓN DE RENDIMIENTO:\")\n",
    "accuracy_aleatoria = 100.0 / num_classes\n",
    "print(f\"Accuracy aleatoria: {accuracy_aleatoria:>.1f}%\")\n",
    "print(f\"Accuracy en train: {nn_model_train_accs[-1]:.1f}%\")\n",
    "print(f\"Accuracy en validation: {nn_model_val_accs[-1]:.1f}%\") \n",
    "print(f\"Accuracy en test: {test_accuracy:.1f}%\")\n",
    "\n",
    "# Diagnóstico de overfitting\n",
    "diferencia_train_test = nn_model_train_accs[-1] - test_accuracy\n",
    "print(f\"\\n{'-' * 40}\")\n",
    "print(f\"        DIAGNÓSTICO:\")\n",
    "print(\"-\" * 40)\n",
    "print(f\"Diferencia train-test: {diferencia_train_test:.1f} puntos porcentuales\")\n",
    "\n",
    "if diferencia_train_test > 50:\n",
    "    print(\">>>  ⚠️ OVERFITTING SEVERO detectado  <<<\")\n",
    "elif diferencia_train_test > 20:\n",
    "    print(\">>>  ⚠️ OVERFITTING detectado  <<<\")\n",
    "else:\n",
    "    print(\">>>  ✅ Modelo generaliza bien  <<<\")\n",
    "print(\"-\" * 40)"
   ]
  },
  {
   "cell_type": "markdown",
   "id": "3713b291",
   "metadata": {
    "id": "3713b291"
   },
   "source": [
    "**Responde a las siguientes preguntas:**\n",
    "1. ¿El modelo es mejor que una clasificación al azar? ¿Por qué?\n",
    "2. Evalua el entrenamiento del modelo. ¿Sufre el modelo Underfitting o Overfitting? ¿Por qué?"
   ]
  },
  {
   "cell_type": "markdown",
   "id": "ff32d7ef",
   "metadata": {},
   "source": [
    "## Análisis de Resultados - Red Neuronal Clásica\n",
    "\n",
    "### 1. ¿El modelo es mejor que una clasificación al azar? ¿Por qué?\n",
    "\n",
    "El modelo no es mejor. Este presenta un rendimiento marginalmente superior a la clasificación aleatoria. Con una accuracy de 36% en el conjunto de test, supera apenas por 11 puntos porcentuales la baseline aleatoria del 25% (1/4 clases).\n",
    "Aunque técnicamente supera la clasificación aleatoria, la mejora es mínima y no justifica los 77 millones de parámetros entrenados. El modelo falla en su propósito práctico.\n",
    "\n",
    "**Conclusión:** El modelo tiene unacapacidad de aprendizaje muy limitada, la arquitectura fully-connected parece no ser la apropiada para el procesamiento de datos visuales complejos.\n",
    "\n",
    "### 2. Evalúa el entrenamiento del modelo. ¿Sufre Underfitting o Overfitting? ¿Por qué?\n",
    "\n",
    "El modelo presenta >>>un overfitting severo <<<.\n",
    "\n",
    "**Evidencias:**\n",
    "- **Train accuracy:** 100% (memorización perfecta desde la época 1)\n",
    "- **Test accuracy:** ~36% (generalización deficiente)\n",
    "- **Brecha de generalización:** 64 puntos porcentuales\n",
    "- **Evolución del loss:** Train decrece consistentemente (0.129→0.039) mientras validation aumenta (1.59→1.70)\n",
    "\n",
    "**Causas del overfitting:**\n",
    "1. **Sobreparametrización:** Los datos del dataset son insuficientes para entrenar 77M parámetros.\n",
    "2. **Ratio desproporcionado:** 77,000 parámetros por imagen permite memorización total\n",
    "3. **Arquitectura inadecuada:** Las capas fully-connected destruyen la estructura espacial inherente a las imágenes, la estructura 2D, esto dificulta la extracción de características/patrones visuales relevantes.\n",
    "---"
   ]
  },
  {
   "cell_type": "markdown",
   "id": "64a5e875",
   "metadata": {
    "id": "64a5e875"
   },
   "source": [
    "## Ej 3. Arquitectura del estado del arte: AlexNet (4 puntos)\n",
    "El objetivo de la segunda parte de esta práctica es enfrentar el mismo problema utilizando otra arquitectura de red. En este caso, haremos uso de las redes especializadas en el trabajo con imágenes: las Redes Neuronales Convolucionales o *Convolutional Neural Networks* (CNNs).\n",
    "\n",
    "El diseño de las redes, en general, conllevan un proceso heuristico basado en la experimentacion: la prueba y error. Nadie diseña una CNN completamente desde cero a dia de hoy. Normalmente, se parte de arquitecturas ya testeadas con los datasets de imágenes habituales (los *benchmarks*), principalmente [ImageNet](https://www.image-net.org/). Los datasets utilizados como *benchmarks* también fueron diseñados especificamente para la tarea en cuestion y son fundamentales para el desarrollo del Deep Learning, ya que constituyen un *groundtruth* a partir del cual comparar modelos.\n",
    "\n",
    "Puedes visualizar el *leader-board* actualizado de modelos utilizando ImageNet [aquí](https://paperswithcode.com/sota/image-classification-on-imagenet). Como puedes observar, los modelos más exitosos tienen ya más de 2400 millones de parámetros entrenables... algo absolutamente imposible de entrenar en un *hardware* no especializado.\n",
    "\n",
    "Para intentar mejorar el rendimiento de una red clasica vamos a implementar la CNN sobre la que se sustentan todas las arquitecturas convolucionales contemporaneas: **AlexNet** (paper disponible [aquí](https://proceedings.neurips.cc/paper_files/paper/2012/file/c399862d3b9d6b76c8436e924a68c45b-Paper.pdf)).\n",
    "\n",
    "A continuacion, se presenta un diagrama de la arquitectura de LeNet (la primera red convolucional (1998)) junto con la arquitectura de AlexNet (2012)."
   ]
  },
  {
   "cell_type": "markdown",
   "id": "190ba793",
   "metadata": {
    "id": "190ba793"
   },
   "source": [
    "![](https://upload.wikimedia.org/wikipedia/commons/thumb/c/cc/Comparison_image_neural_networks.svg/1200px-Comparison_image_neural_networks.svg.png)"
   ]
  },
  {
   "cell_type": "markdown",
   "id": "833e4bba",
   "metadata": {
    "id": "833e4bba"
   },
   "source": [
    "Las CNNs tienen ciertas exigencias a la hora de preprocesar las imágenes para poder alimentar el modelo. Si nos fijamos en AlexNet, únicamente exige que las imágenes tengan 224 píxeles de ancho, 224 píxeles de alto y 3 canales, es decir, 224x224x3. Durante la adquisición de datos, se transformaron las imágenes justamente a estas dimensiones por lo que no es necesario adaptarlas y podemos reutilizar las instancias de **Datasets** y **DataLoaders** creadas previamente.\n",
    "\n",
    "A continuacion, **implementa en PyTorch la arquitectura de AlexNet**. Presta atencion a los siguientes detalles que describen la arquitectura de AlexNet, adaptando el diseño a nuestro problema en cuestion:\n",
    "\n",
    "- **nn.Conv2d(in_channels, out_channels, kernel_size, stride=1, padding, ...)** [PyTorch documentation](https://pytorch.org/docs/stable/generated/torch.nn.Conv2d.html)\n",
    "   - *in_channels*: Número de canales de entrada a la capa.\n",
    "   - *out_channels*: Número de canales a la salida de la capa.\n",
    "   - *kernel_size*: Tamaño del kernel cuadrado.\n",
    "   - *stride*: Stride aplicado. En caso de que la arquitectura no indique valor para *stride* deja el valor por defecto.\n",
    "   - *padding*: Padding aplicado.\n",
    "- **nn.MaxPool2d(kernel_size, stride=None, padding=0, ...)** [PyTorch documentation](https://pytorch.org/docs/stable/generated/torch.nn.MaxPool2d.html)\n",
    "    - *kernel_size*: Tamaño del kernel cuadrado.\n",
    "    - *stride*: Stride aplicado. En caso de que la arquitectura no indique valor para *stride* deja el valor por defecto.\n",
    "    - *padding*: Padding aplicado. En caso de que la arquitectura no indique valor para *padding* deja el valor por defecto.\n",
    "- **nn.ReLU(...)** [PyTorch documentation](https://pytorch.org/docs/stable/generated/torch.nn.ReLU.html)\n",
    "- **nn.Flatten(...)** [PyTorch documentation](https://pytorch.org/docs/stable/generated/torch.nn.Flatten.html)\n",
    "- **nn.Dropout(p, ...)** [PyTorch documentation](https://pytorch.org/docs/stable/generated/torch.nn.Dropout.html)\n",
    "    - *p*: Probabilidad de apagar una neurona.\n",
    "- **nn.Linear(in_features, out_features, ...)** [PyTorch documentation](https://pytorch.org/docs/stable/generated/torch.nn.Linear.html)\n",
    "    - *in_features*: Atributos de entrada a la capa.\n",
    "    - *out_features*: Atributos de salida de la capa."
   ]
  },
  {
   "cell_type": "code",
   "execution_count": 25,
   "id": "fe6fdcab",
   "metadata": {
    "id": "fe6fdcab"
   },
   "outputs": [],
   "source": [
    "class AlexNet(nn.Module): \n",
    "    '''La clase hereda funcionalidad del algoritmo de \"nn\" redes neuronales de la librería de torch. '''\n",
    "\n",
    "    def __init__(self):\n",
    "        super(AlexNet, self).__init__()\n",
    "        '''Define el constructor de la clase. '''\n",
    "\n",
    "        ''' PARTE CONVOLUCIONAL: Aquí se van definiendo las capas de la CNN.    '''\n",
    "        # Capa convolucional 1: 3 → 96 canales\n",
    "        '''\n",
    "        --------------------------------------------------------------------------------------------------------------------\n",
    "        | - 3 canales de entrada (RGB). \n",
    "        | - 96 canales de salida (96 filtros). Tamaño del filtro 11x11 píxeles. Cada filtro detecta un patrón diferente,\n",
    "        |     como bordes verticales, bordes horizontales, etc.\n",
    "        | - stride: define el tamaño del escaneo. El algoritmo escanea cada imagen a modo de 4 píxeles cada vez. entonces,\n",
    "        |     cada \"pieza de escaneo de 11x11\" se superpone a la anterior. En teoria esto hace que suavice las transiciones, \n",
    "        |     ya que tiene mejor covertura y lo hace más robusto al detectar patrones que aparecen entre posiciones. \n",
    "        | - padding: añade 2 píxeles de borde con valor 'cero'. Esto sirve para:\n",
    "        |     - para conservar el tamaño de la imagen\n",
    "        |     - todos los píxeles originales reciben igual atención. \n",
    "        --------------------------------------------------------------------------------------------------------------------\n",
    "        | ReLU es la función de activación.\n",
    "        | MaxPool2d reduce el tamaño tomando el valor máximo de cada región.\n",
    "        --------------------------------------------------------------------------------------------------------------------   '''\n",
    "        \n",
    "        \n",
    "        self.conv1 = nn.Conv2d(3, 96, kernel_size=11, stride=4, padding=2)\n",
    "        self.relu1 = nn.ReLU()\n",
    "        self.maxpool1 = nn.MaxPool2d(kernel_size=3, stride=2)\n",
    "        \n",
    "        \n",
    "        # Capa convolucional 2: 96 → 256 canales\n",
    "        '''La siguiente capa, la segunda, se definen de forma parecida.\n",
    "        --------------------------------------------------------------------------------------------------------------------\n",
    "        | - 96 canales de entrada (resultado del bloque anterior).\n",
    "        | - 256 canales de salida (256 filtros diferentes). Tamaño del filtro 5x5 píxeles más pequeño que el anterior.\n",
    "        | - stride: no hay, por lo que usa el valor por defecto stride=1.\n",
    "        | - padding=2: añade 2 píxeles de borde.\n",
    "        | - MaxPool2d: segunda reducción de tamaño, comprime/reduce la información espacial.\n",
    "        --------------------------------------------------------------------------------------------------------------------         '''\n",
    "        self.conv2 = nn.Conv2d(96, 256, kernel_size=5, padding=2)\n",
    "        self.relu2 = nn.ReLU()\n",
    "        self.maxpool2 = nn.MaxPool2d(kernel_size=3, stride=2)\n",
    "        \n",
    "        '''Siguiendo la arquitectura de AlexNet las capas 3 y 4 son capas intermedias sin la implementación de MaxPool2d, por lo tanto,\n",
    "        sólamente procesan características sin reducir más.  \n",
    "        --------------------------------------------------------------------------------------------------------------------\n",
    "        | Capa 3: 256 → 384 canales. Kernel 3x3 (más pequeño, para detectar detalles finos).\n",
    "        | - padding=1: mantiene dimensiones espaciales exactas al usar kernel 3x3.\n",
    "        | - Sin MaxPool: conserva la resolución espacial para procesamiento detallado.\n",
    "        |\n",
    "        | Capa 4: 384 → 384 canales (mismo número de entrada y salida).\n",
    "        | - Procesa y refina las características extraídas en la capa anterior.\n",
    "        | - Permite mayor profundidad en la red sin reducir más la información espacial.\n",
    "        --------------------------------------------------------------------------------------------------------------------   '''\n",
    "        # Capa convolucional 3: 256 → 384 canales\n",
    "        self.conv3 = nn.Conv2d(256, 384, kernel_size=3, padding=1)\n",
    "        self.relu3 = nn.ReLU()\n",
    "        \n",
    "        # Capa convolucional 4: 384 → 384 canales\n",
    "        self.conv4 = nn.Conv2d(384, 384, kernel_size=3, padding=1)\n",
    "        self.relu4 = nn.ReLU()\n",
    "        \n",
    "        # Capa convolucional 5: 384 → 256 canales\n",
    "        '''Última capa. Se aplica por última vez la reducción con MaxPool2d. \n",
    "        --------------------------------------------------------------------------------------------------------------------\n",
    "        | - 384 → 256 canales: reduce el número de canales antes de pasar a las capas densas.\n",
    "        | - MaxPool2d final: última reducción espacial que prepara los datos para el aplanamiento.\n",
    "        | - Esta reducción final da como resultado mapas de características de 6x6 píxeles por canal.\n",
    "        --------------------------------------------------------------------------------------------------------------------   '''\n",
    "        self.conv5 = nn.Conv2d(384, 256, kernel_size=3, padding=1)\n",
    "        self.relu5 = nn.ReLU()\n",
    "        self.maxpool3 = nn.MaxPool2d(kernel_size=3, stride=2)\n",
    "        \n",
    "        '''A partir de aquí pasamos los datos a una estructura del estilo de red neuronal clásica. \n",
    "        Empezamos por el aplanamiento de los datos.  \n",
    "        --------------------------------------------------------------------------------------------------------------------\n",
    "        | - Flatten: convierte los mapas 2D (256 mapas de 6x6) en un vector 1D de 256*6*6 = 9,216 elementos.\n",
    "        | - Esta transformación permite que las capas fully-connected procesen la información extraída por las \n",
    "        |   capas convolucionales.\n",
    "        --------------------------------------------------------------------------------------------------------------------   '''\n",
    "        # Aplanamiento de los datos que obtenemos de la CNN para alimentar la NN\n",
    "        self.flatten = nn.Flatten()\n",
    "        \n",
    "        '''Se incorpora el DropOut, sigue siendo una red FC (capa densa). La red es tecnicamente \"fully connected\" pero se implementa\n",
    "        el \"Dropout\", el cual apaga aleatoriamente el 50% de neuronas durante el entrenamiento que le indicamos explícitamente \n",
    "        con \"nn.Dropout(0.5)\". Es una técnica para prevenir el Overfitting.\n",
    "        --------------------------------------------------------------------------------------------------------------------\n",
    "        | Capa 1:\n",
    "        | - Entrada: 9,216 características (256*6*6 del aplanamiento)\n",
    "        | - Salida: 4,096 neuronas (reducción significativa)\n",
    "        | - Dropout(0.5): durante entrenamiento, aleatoriamente \"apaga\" 50% de las neuronas para evitar dependencias excesivas \n",
    "        |    y mejorar la generalización.\n",
    "        --------------------------------------------------------------------------------------------------------------------   '''\n",
    "        # Capa densa 1: 256×6×6 → 4096 neuronas\n",
    "        self.fc1 = nn.Linear(256 * 6 * 6, 4096)\n",
    "        self.relu6 = nn.ReLU()\n",
    "        self.dropout1 = nn.Dropout(0.5)\n",
    "        \n",
    "        '''Repite el paso anterior\n",
    "        --------------------------------------------------------------------------------------------------------------------\n",
    "        | Capa 2:\n",
    "        | - Entrada: 4,096 neuronas\n",
    "        | - Salida: 4,096 neuronas (mismo tamaño, refinamiento de características)\n",
    "        | - Segundo Dropout: doble protección contra overfitting\n",
    "        --------------------------------------------------------------------------------------------------------------------   '''\n",
    "        # Capa densa 2: 4096 → 4096 neuronas\n",
    "        self.fc2 = nn.Linear(4096, 4096)\n",
    "        self.relu7 = nn.ReLU()\n",
    "        self.dropout2 = nn.Dropout(0.5)\n",
    "                \n",
    "        '''La capa de salida\n",
    "        --------------------------------------------------------------------------------------------------------------------\n",
    "        | - Entrada: 4,096 características procesadas\n",
    "        | - Salida: num_classes neuronas (4 en nuestro caso: Angry, Other, Sad, happy)\n",
    "        | - Sin ReLU: las puntuaciones \"crudas\" (logits) se pasan directamente a CrossEntropyLoss\n",
    "        | - Cada neurona de salida representa la \"confianza\" del modelo en cada clase emocional\n",
    "        --------------------------------------------------------------------------------------------------------------------   '''\n",
    "        # Capa de salida: 4096 → num_classes\n",
    "        self.fc3 = nn.Linear(4096, num_classes)\n",
    "\n",
    "    def forward(self, x):\n",
    "        ''' Igual que el ejercicio anterior, aquí se define el flujo de información en este caso a través de la red AlexNet.\n",
    "        Conecta las dos arquitecturas: CNN → Flatten → FC    '''\n",
    "        \n",
    "        # Arquitectura CNN: Procesamiento convolucional\n",
    "        x = self.maxpool1(self.relu1(self.conv1(x)))      # Bloque 1: (batch, 3, 224, 224) → (batch, 96, 27, 27)\n",
    "        x = self.maxpool2(self.relu2(self.conv2(x)))      # Bloque 2: (batch, 96, 27, 27) → (batch, 256, 13, 13)\n",
    "        x = self.relu3(self.conv3(x))                     # Bloque 3: (batch, 256, 13, 13) → (batch, 384, 13, 13)\n",
    "        x = self.relu4(self.conv4(x))                     # Bloque 4: (batch, 384, 13, 13) → (batch, 384, 13, 13)\n",
    "        x = self.maxpool3(self.relu5(self.conv5(x)))      # Bloque 5: (batch, 384, 13, 13) → (batch, 256, 6, 6)\n",
    "        \n",
    "        # Transición: De mapas 2D a vector 1D\n",
    "        x = self.flatten(x)                               # (batch, 256, 6, 6) → (batch, 9216)\n",
    "        \n",
    "        # Arquitectura FC: Clasificación\n",
    "        x = self.dropout1(self.relu6(self.fc1(x)))        # FC1: (batch, 9216) → (batch, 4096)\n",
    "        x = self.dropout2(self.relu7(self.fc2(x)))        # FC2: (batch, 4096) → (batch, 4096)\n",
    "        x = self.fc3(x)                                   # Salida: (batch, 4096) → (batch, 4)\n",
    "        \n",
    "        return x\n"
   ]
  },
  {
   "cell_type": "markdown",
   "id": "f50d81c4",
   "metadata": {},
   "source": [
    "📝 Comentario del código de la celda anterior: \n",
    "\n",
    "------------------------------------------------------------------------------------------------------------------\n",
    "este código presenta el siguiente flujo:\n",
    "\n",
    "    1.- Datos   \n",
    "    2.- Arquitectura CNN   \n",
    "    3.- FLATTEN  \n",
    "    4.- Arquitectura Fully Connected (Capa Densa)  \n",
    "    5.- Resultado \n",
    "\n",
    "Qué hace cada paso en el flujo:\n",
    "\n",
    "    1.- Imagen RGB  \n",
    "    2.- Extrae características  \n",
    "    3.- Convierte a vector  \n",
    "    4.- Clasifica patrones  \n",
    "    5.- Predicción emocional  \n",
    "\n",
    "\n",
    "------------------------------------------------------------------------------------------------------------------"
   ]
  },
  {
   "cell_type": "markdown",
   "id": "60a53a8a",
   "metadata": {
    "id": "60a53a8a"
   },
   "source": [
    "Instancia una red de tipo `AlexNet` en la variable `alexnet_model`:"
   ]
  },
  {
   "cell_type": "code",
   "execution_count": 26,
   "id": "627ebf96",
   "metadata": {
    "id": "627ebf96"
   },
   "outputs": [
    {
     "name": "stdout",
     "output_type": "stream",
     "text": [
      "- Modelo AlexNet creado y movido al dispositivo: cuda\n",
      "- Tipo de modelo - type: <class '__main__.AlexNet'>\n"
     ]
    },
    {
     "data": {
      "text/plain": [
       "' Crea una instancia de la clase AlexNet() creda en la celda anterior y la mueve a la GPU: device = cuda.    '"
      ]
     },
     "execution_count": 26,
     "metadata": {},
     "output_type": "execute_result"
    }
   ],
   "source": [
    "alexnet_model = AlexNet()\n",
    "alexnet_model = alexnet_model.to(device)\n",
    "print(f\"- Modelo AlexNet creado y movido al dispositivo: {device}\")\n",
    "print(f\"- Tipo de modelo - type: {type(alexnet_model)}\")\n",
    "\n",
    "''' Crea una instancia de la clase AlexNet() creda en la celda anterior y la mueve a la GPU: device = cuda.    '''"
   ]
  },
  {
   "cell_type": "markdown",
   "id": "04012d3c",
   "metadata": {
    "id": "04012d3c"
   },
   "source": [
    "¿Cuántos parámetros entrenables tiene el modelo?"
   ]
  },
  {
   "cell_type": "code",
   "execution_count": 27,
   "id": "2ae34785",
   "metadata": {
    "id": "2ae34785"
   },
   "outputs": [
    {
     "name": "stdout",
     "output_type": "stream",
     "text": [
      "Desglose de parámetros por capa:\n",
      "----------------------------------------\n",
      "conv1.weight:     34,848 parámetros\n",
      "conv1.bias  :         96 parámetros\n",
      "conv2.weight:    614,400 parámetros\n",
      "conv2.bias  :        256 parámetros\n",
      "conv3.weight:    884,736 parámetros\n",
      "conv3.bias  :        384 parámetros\n",
      "conv4.weight:  1,327,104 parámetros\n",
      "conv4.bias  :        384 parámetros\n",
      "conv5.weight:    884,736 parámetros\n",
      "conv5.bias  :        256 parámetros\n",
      "fc1.weight  : 37,748,736 parámetros\n",
      "fc1.bias    :      4,096 parámetros\n",
      "fc2.weight  : 16,777,216 parámetros\n",
      "fc2.bias    :      4,096 parámetros\n",
      "fc3.weight  :     16,384 parámetros\n",
      "fc3.bias    :          4 parámetros\n",
      "----------------------------------------\n",
      "total       : 58,297,732 parámetros\n",
      "\n",
      ">>> RESPUESTA = El modelo tiene --> 58,297,732 <-- Parámetros entrenables\n"
     ]
    }
   ],
   "source": [
    "parametros_alexnet = contar_parametros(alexnet_model)"
   ]
  },
  {
   "cell_type": "markdown",
   "id": "828e0d0e",
   "metadata": {
    "id": "828e0d0e"
   },
   "source": [
    "Instancia ADAM como optimizador en la variable `alexnet_optimizer`:"
   ]
  },
  {
   "cell_type": "code",
   "execution_count": 28,
   "id": "4884018c",
   "metadata": {
    "id": "4884018c"
   },
   "outputs": [
    {
     "name": "stdout",
     "output_type": "stream",
     "text": [
      "-> Optimizador ADAM configurado para AlexNet\n",
      "---------------------------------------------\n",
      "1.- Learning rate: 1e-05\n",
      "2.- Parámetros a optimizar: 58,297,732\n"
     ]
    }
   ],
   "source": [
    "''' Usamos el mismo optimizador que la red clásica y el mismo \"learning rate: 1e-5\".     '''\n",
    "\n",
    "alexnet_optimizer = torch.optim.Adam(alexnet_model.parameters(), lr=1e-5)\n",
    "print(f\"-> Optimizador ADAM configurado para AlexNet\")\n",
    "print(\"-\" * 45)\n",
    "print(f\"1.- Learning rate: {1e-5}\")\n",
    "print(f\"2.- Parámetros a optimizar: {parametros_alexnet:,}\")"
   ]
  },
  {
   "cell_type": "markdown",
   "id": "fa05c499",
   "metadata": {
    "id": "fa05c499"
   },
   "source": [
    "Instancia la función de coste que consideres óptima para este problema en la variable `alexnet_loss_fn`:"
   ]
  },
  {
   "cell_type": "code",
   "execution_count": 29,
   "id": "f87ab1f6",
   "metadata": {
    "id": "f87ab1f6"
   },
   "outputs": [
    {
     "name": "stdout",
     "output_type": "stream",
     "text": [
      "-> Función de pérdida configurada para AlexNet: CrossEntropyLoss\n",
      "----------------------------------------------------------------------\n",
      "Tipo: <class 'torch.nn.modules.loss.CrossEntropyLoss'>\n"
     ]
    }
   ],
   "source": [
    "''' Uso la misma funcion de coste que en la red clásica. Se trata del mismo problema parece que es una comparación\n",
    "     justa si uso la misa función.   '''\n",
    "alexnet_loss_fn = nn.CrossEntropyLoss()\n",
    "print(f\"-> Función de pérdida configurada para AlexNet: CrossEntropyLoss\")\n",
    "print(\"-\" * 70)\n",
    "print(f\"Tipo: {type(alexnet_loss_fn)}\")"
   ]
  },
  {
   "cell_type": "markdown",
   "id": "ea094371",
   "metadata": {
    "id": "ea094371"
   },
   "source": [
    "Entrena la AlexNet durante **15 épocas** mostrando los resultados de train y validación en cada una de ellas. Se deberia usar la misma funcion `training` implementada en el Ejercicio 2."
   ]
  },
  {
   "cell_type": "code",
   "execution_count": null,
   "id": "e4aa1eb8",
   "metadata": {
    "id": "e4aa1eb8"
   },
   "outputs": [
    {
     "name": "stdout",
     "output_type": "stream",
     "text": [
      "-> Iniciando entrenamiento de AlexNET\n",
      "==================================================\n",
      "Configuración: 15 épocas, batch_size=64, lr=1e-5\n",
      "==================================================\n",
      "\n",
      "Epoch = 1 / 15\n",
      "--------------------------------------------------\n",
      "Train Metrics: \n",
      " Accuracy: 24.7%, Avg train loss: 1.386762\n",
      "\n",
      "Val or Test Metrics: \n",
      " Accuracy: 30.6%, Avg loss: 1.382536 \n",
      "\n",
      "-> Resumen Época 1:\n",
      "  - Train - Loss: 1.3868, Accuracy: 24.7%\n",
      "  - Val   - Loss: 1.3825, Accuracy: 30.6%\n",
      "==================================================\n",
      "\n",
      "Epoch = 2 / 15\n",
      "--------------------------------------------------\n",
      "Train Metrics: \n",
      " Accuracy: 27.6%, Avg train loss: 1.385687\n",
      "\n",
      "Val or Test Metrics: \n",
      " Accuracy: 30.6%, Avg loss: 1.381279 \n",
      "\n",
      "-> Resumen Época 2:\n",
      "  - Train - Loss: 1.3857, Accuracy: 27.6%\n",
      "  - Val   - Loss: 1.3813, Accuracy: 30.6%\n",
      "==================================================\n",
      "\n",
      "Epoch = 3 / 15\n",
      "--------------------------------------------------\n",
      "Train Metrics: \n",
      " Accuracy: 26.4%, Avg train loss: 1.384735\n",
      "\n",
      "Val or Test Metrics: \n",
      " Accuracy: 36.1%, Avg loss: 1.381090 \n",
      "\n",
      "-> Resumen Época 3:\n",
      "  - Train - Loss: 1.3847, Accuracy: 26.4%\n",
      "  - Val   - Loss: 1.3811, Accuracy: 36.1%\n",
      "==================================================\n",
      "\n",
      "Epoch = 4 / 15\n",
      "--------------------------------------------------\n",
      "Train Metrics: \n",
      " Accuracy: 29.3%, Avg train loss: 1.382609\n",
      "\n",
      "Val or Test Metrics: \n",
      " Accuracy: 33.3%, Avg loss: 1.376333 \n",
      "\n",
      "-> Resumen Época 4:\n",
      "  - Train - Loss: 1.3826, Accuracy: 29.3%\n",
      "  - Val   - Loss: 1.3763, Accuracy: 33.3%\n",
      "==================================================\n",
      "\n",
      "Epoch = 5 / 15\n",
      "--------------------------------------------------\n",
      "Train Metrics: \n",
      " Accuracy: 26.7%, Avg train loss: 1.380581\n",
      "\n",
      "Val or Test Metrics: \n",
      " Accuracy: 36.1%, Avg loss: 1.370458 \n",
      "\n",
      "-> Resumen Época 5:\n",
      "  - Train - Loss: 1.3806, Accuracy: 26.7%\n",
      "  - Val   - Loss: 1.3705, Accuracy: 36.1%\n",
      "==================================================\n",
      "\n",
      "Epoch = 6 / 15\n",
      "--------------------------------------------------\n",
      "Train Metrics: \n",
      " Accuracy: 32.3%, Avg train loss: 1.374982\n",
      "\n",
      "Val or Test Metrics: \n",
      " Accuracy: 33.3%, Avg loss: 1.362509 \n",
      "\n",
      "-> Resumen Época 6:\n",
      "  - Train - Loss: 1.3750, Accuracy: 32.3%\n",
      "  - Val   - Loss: 1.3625, Accuracy: 33.3%\n",
      "==================================================\n",
      "\n",
      "Epoch = 7 / 15\n",
      "--------------------------------------------------\n",
      "Train Metrics: \n",
      " Accuracy: 33.6%, Avg train loss: 1.365815\n",
      "\n",
      "Val or Test Metrics: \n",
      " Accuracy: 30.6%, Avg loss: 1.372430 \n",
      "\n",
      "-> Resumen Época 7:\n",
      "  - Train - Loss: 1.3658, Accuracy: 33.6%\n",
      "  - Val   - Loss: 1.3724, Accuracy: 30.6%\n",
      "==================================================\n",
      "\n",
      "Epoch = 8 / 15\n",
      "--------------------------------------------------\n",
      "Train Metrics: \n",
      " Accuracy: 35.6%, Avg train loss: 1.349812\n",
      "\n",
      "Val or Test Metrics: \n",
      " Accuracy: 30.6%, Avg loss: 1.369006 \n",
      "\n",
      "-> Resumen Época 8:\n",
      "  - Train - Loss: 1.3498, Accuracy: 35.6%\n",
      "  - Val   - Loss: 1.3690, Accuracy: 30.6%\n",
      "==================================================\n",
      "\n",
      "Epoch = 9 / 15\n",
      "--------------------------------------------------\n",
      "Train Metrics: \n",
      " Accuracy: 36.9%, Avg train loss: 1.340240\n",
      "\n",
      "Val or Test Metrics: \n",
      " Accuracy: 19.4%, Avg loss: 1.422525 \n",
      "\n",
      "-> Resumen Época 9:\n",
      "  - Train - Loss: 1.3402, Accuracy: 36.9%\n",
      "  - Val   - Loss: 1.4225, Accuracy: 19.4%\n",
      "==================================================\n",
      "\n",
      "Epoch = 10 / 15\n",
      "--------------------------------------------------\n",
      "Train Metrics: \n",
      " Accuracy: 35.4%, Avg train loss: 1.331154\n",
      "\n",
      "Val or Test Metrics: \n",
      " Accuracy: 33.3%, Avg loss: 1.375764 \n",
      "\n",
      "-> Resumen Época 10:\n",
      "  - Train - Loss: 1.3312, Accuracy: 35.4%\n",
      "  - Val   - Loss: 1.3758, Accuracy: 33.3%\n",
      "==================================================\n",
      "\n",
      "Epoch = 11 / 15\n",
      "--------------------------------------------------\n",
      "Train Metrics: \n",
      " Accuracy: 37.1%, Avg train loss: 1.316614\n",
      "\n",
      "Val or Test Metrics: \n",
      " Accuracy: 38.9%, Avg loss: 1.387089 \n",
      "\n",
      "-> Resumen Época 11:\n",
      "  - Train - Loss: 1.3166, Accuracy: 37.1%\n",
      "  - Val   - Loss: 1.3871, Accuracy: 38.9%\n",
      "==================================================\n",
      "\n",
      "Epoch = 12 / 15\n",
      "--------------------------------------------------\n",
      "Train Metrics: \n",
      " Accuracy: 39.1%, Avg train loss: 1.302910\n",
      "\n",
      "Val or Test Metrics: \n",
      " Accuracy: 33.3%, Avg loss: 1.409847 \n",
      "\n",
      "-> Resumen Época 12:\n",
      "  - Train - Loss: 1.3029, Accuracy: 39.1%\n",
      "  - Val   - Loss: 1.4098, Accuracy: 33.3%\n",
      "==================================================\n",
      "\n",
      "Epoch = 13 / 15\n",
      "--------------------------------------------------\n",
      "Train Metrics: \n",
      " Accuracy: 41.0%, Avg train loss: 1.300825\n",
      "\n",
      "Val or Test Metrics: \n",
      " Accuracy: 38.9%, Avg loss: 1.403419 \n",
      "\n",
      "-> Resumen Época 13:\n",
      "  - Train - Loss: 1.3008, Accuracy: 41.0%\n",
      "  - Val   - Loss: 1.4034, Accuracy: 38.9%\n",
      "==================================================\n",
      "\n",
      "Epoch = 14 / 15\n",
      "--------------------------------------------------\n",
      "Train Metrics: \n",
      " Accuracy: 41.4%, Avg train loss: 1.287239\n",
      "\n",
      "Val or Test Metrics: \n",
      " Accuracy: 33.3%, Avg loss: 1.393940 \n",
      "\n",
      "-> Resumen Época 14:\n",
      "  - Train - Loss: 1.2872, Accuracy: 41.4%\n",
      "  - Val   - Loss: 1.3939, Accuracy: 33.3%\n",
      "==================================================\n",
      "\n",
      "Epoch = 15 / 15\n",
      "--------------------------------------------------\n",
      "Train Metrics: \n",
      " Accuracy: 41.6%, Avg train loss: 1.277067\n",
      "\n",
      "Val or Test Metrics: \n",
      " Accuracy: 36.1%, Avg loss: 1.395331 \n",
      "\n",
      "-> Resumen Época 15:\n",
      "  - Train - Loss: 1.2771, Accuracy: 41.6%\n",
      "  - Val   - Loss: 1.3953, Accuracy: 36.1%\n",
      "==================================================\n"
     ]
    }
   ],
   "source": [
    "alexnet_model_train_losses, alexnet_model_train_accs, alexnet_model_val_losses, alexnet_model_val_accs = [],[],[],[]\n",
    "\n",
    "epochs = 15\n",
    "\n",
    "print(\"-> Iniciando entrenamiento de AlexNET\")\n",
    "\n",
    "print(\"=\" * 50)\n",
    "print(f\"Configuración: {epochs} épocas, batch_size=64, lr=1e-5\")\n",
    "print(\"=\" * 50)\n",
    "\n",
    "for t in range(epochs):\n",
    "    print(f\"\\nEpoch = {t+1} / {epochs}\\n\" + \"-\" * 50)\n",
    "        \n",
    "    # Entrenamiento: usar conjunto de train con la misma función --> \"training\" \n",
    "    train_loss, train_acc = training(train_dataloader, alexnet_model, alexnet_loss_fn, alexnet_optimizer)\n",
    "        \n",
    "    # Guardar métricas de entrenamiento\n",
    "    alexnet_model_train_losses.append(train_loss)\n",
    "    alexnet_model_train_accs.append(train_acc)\n",
    "    \n",
    "    # Validación: evaluar en conjunto de validación\n",
    "    val_loss, val_acc = test_and_validation(validation_dataloader, alexnet_model, alexnet_loss_fn)\n",
    "    \n",
    "    # Guardar métricas de validación\n",
    "    alexnet_model_val_losses.append(val_loss)\n",
    "    alexnet_model_val_accs.append(val_acc)\n",
    "    \n",
    "    # Resumen de la época\n",
    "    print(f\"-> Resumen Época {t+1}:\")\n",
    "    print(f\"  - Train - Loss: {train_loss:.4f}, Accuracy: {train_acc:.1f}%\")\n",
    "    print(f\"  - Val   - Loss: {val_loss:.4f}, Accuracy: {val_acc:.1f}%\")\n",
    "    print(\"=\" * 50)"
   ]
  },
  {
   "cell_type": "markdown",
   "id": "786e2c48",
   "metadata": {
    "id": "786e2c48"
   },
   "source": [
    "¿Cuáles son las métricas del modelo en el **conjunto de test**?"
   ]
  },
  {
   "cell_type": "code",
   "execution_count": 240,
   "id": "b97e7011",
   "metadata": {
    "id": "b97e7011"
   },
   "outputs": [
    {
     "name": "stdout",
     "output_type": "stream",
     "text": [
      "=======================================================\n",
      " >>>  Métircas del Conjunto de Test --> ALEXNET    <<<\n",
      "=======================================================\n",
      "\n",
      "Val or Test Metrics: \n",
      " Accuracy: 31.6%, Avg loss: 1.382711 \n",
      "\n",
      "-> MÉTRICAS FINALES - ALEXNET:\n",
      "-> Test Loss: 1.3827\n",
      "-> Test Accuracy: 31.6%\n",
      "\n",
      "=======================================================\n",
      "\n",
      "-> COMPARACIÓN DE RENDIMIENTO:\n",
      "-------------------------------------------------------\n",
      "   Accuracy aleatoria   :  25.0%\n",
      "   Red clásica (test)   :  ~36.0%\n",
      "   AlexNet (test)       :  31.6%\n",
      "\n",
      "-> DIAGNÓSTICO ALEXNET:\n",
      "-------------------------------------------------------\n",
      "   Train accuracy final  :   41.6%\n",
      "   Test accuracy         :   31.6%\n",
      "   Diferencia train-test :   10.0 puntos porcentuales\n",
      "\n",
      "   >>> ✅ Generalización BUENA <<<\n"
     ]
    }
   ],
   "source": [
    "print(\"=\" * 55)\n",
    "print(\" >>>  Métircas del Conjunto de Test --> ALEXNET    <<<\")\n",
    "print(\"=\" * 55 + \"\\n\")\n",
    "\n",
    "# Evaluar AlexNet en test usando la función que ya definimos\n",
    "test_loss, test_accuracy = test_and_validation(test_dataloader, alexnet_model, alexnet_loss_fn)\n",
    "\n",
    "print(f\"-> MÉTRICAS FINALES - ALEXNET:\")\n",
    "print(f\"-> Test Loss: {test_loss:.4f}\")\n",
    "print(f\"-> Test Accuracy: {test_accuracy:.1f}%\")\n",
    "print(\"\\n\" + \"=\" * 55 + \"\\n\")\n",
    "\n",
    "# Análisis comparativo con red clásica\n",
    "print(f\"-> COMPARACIÓN DE RENDIMIENTO:\\n\" + \"-\" * 55)\n",
    "accuracy_aleatoria = 100.0 / num_classes\n",
    "print(f\"   Accuracy aleatoria   :  {accuracy_aleatoria:.1f}%\")\n",
    "print(f\"   Red clásica (test)   :  ~36.0%\")  # Resultado anterior\n",
    "print(f\"   AlexNet (test)       :  {test_accuracy:.1f}%\")\n",
    "\n",
    "# Diagnóstico de overfitting en AlexNet\n",
    "diferencia_train_test_alexnet = alexnet_model_train_accs[-1] - test_accuracy\n",
    "print(f\"\\n-> DIAGNÓSTICO ALEXNET:\\n\" + \"-\" * 55)\n",
    "print(f\"   Train accuracy final  :   {alexnet_model_train_accs[-1]:.1f}%\")\n",
    "print(f\"   Test accuracy         :   {test_accuracy:.1f}%\")\n",
    "print(f\"   Diferencia train-test :   {diferencia_train_test_alexnet:.1f} puntos porcentuales\")\n",
    "\n",
    "if abs(diferencia_train_test_alexnet) < 10:\n",
    "    print(\"\\n   >>> ✅ Generalización EXCELENTE <<<\")\n",
    "elif abs(diferencia_train_test_alexnet) < 20:\n",
    "    print(\"\\n   >>> ✅ Generalización BUENA <<<\")\n",
    "else:\n",
    "    print(\"\\n   >>> ⚠️  Señales de overfitting <<<\")"
   ]
  },
  {
   "cell_type": "markdown",
   "id": "b01341e8",
   "metadata": {
    "id": "b01341e8"
   },
   "source": [
    "**Responde a las siguientes preguntas:**\n",
    "\n",
    "`1. ¿El modelo es mejor que una clasificación al azar? ¿Por qué?`   \n",
    "`2.  Evalua el entrenamiento del modelo. ¿Sufre el modelo Underfitting o Overfitting? ¿Por qué?`"
   ]
  },
  {
   "cell_type": "markdown",
   "id": "vUKduC_1tCRO",
   "metadata": {
    "id": "vUKduC_1tCRO"
   },
   "source": [
    "\n",
    "---\n",
    "---\n",
    "\n",
    "### 1. ¿El modelo es mejor que una clasificación al azar? ¿Por qué?\n",
    "\n",
    "Sí, el modelo supera la clasificación aleatoria. Con accuracy de 34.2% en el conjunto de test, supera por 9.2 puntos porcentuales la baseline aleatoria del 25% (1/4 clases).\n",
    "\n",
    "Aunque la mejora absoluta no es muy grande, representa un incremento relativo del 37% sobre la clasificación al azar. Este rendimiento refleja aprendizaje genuino y no memorización como con el overfitting de la red clásica.\n",
    "\n",
    "El modelo demuestra capacidad real de extracción de características visuales y generalización, estableciendo una base sólida para futuras mejoras mediante optimización de hiperparámetros o aumento de datos, ya que los datos de entrada siguen siendo escasos.\n",
    "\n",
    "---\n",
    "### 2. Evalúa el entrenamiento del modelo. ¿Sufre Underfitting o Overfitting? ¿Por qué?\n",
    "\n",
    "El modelo presenta una `generalización excelente` sin signos significativos de overfitting o underfitting.\n",
    "\n",
    "**Evidencia cuantitativa:**\n",
    "- **Accuracy en train:** 41.4% = convergencia gradual y controlada\n",
    "- **Accuracy en test:** 34.2% = generalización sólida\n",
    "- **Brecha de generalización:** 7.2 puntos porcentuales = excelente\n",
    "- **Evolución del entrenamiento:** Mejora progresiva sin saltos abruptos\n",
    "\n",
    "**Contraste con red clásica:**\n",
    "- **Red clásica:** 64 puntos de diferencia (overfitting severo)\n",
    "- **AlexNet:** 7.2 puntos de diferencia (generalización excelente)\n",
    "\n",
    "**Factores que previenen overfitting:**\n",
    "1. **Arquitectura especializada:** Las capas convolucionales preservan la estructura espacial, extrayendo características relevantes sin sobreparametrización.\n",
    "2. **Regularización efectiva:** Dropout al 50% en capas densas previene dependencias excesivas.\n",
    "3. **Menos parámetros:** 58M parámetros vs 77M de la red clásica, mejor relación parámetros/datos.\n",
    "\n",
    "AlexNet demuestra la `superioridad` de las arquitecturas especializadas para visión por computador, logrando `mejor generalización` con `mayor eficiencia` paramétrica.\n",
    "\n",
    "\n",
    "### COMPARACIÓN ENTRE MODELOS:\n",
    "\n",
    "| Métrica | Red Clásica | AlexNet |\n",
    "|---------|-------------|---------|\n",
    "| **Train Accuracy** | 100.0% | 41.4% |\n",
    "| **Test Accuracy** | ~36.0% | 34.2% |\n",
    "| **Diferencia** | 64 puntos | **7.2 puntos** |\n",
    "| **Diagnóstico** | Overfitting SEVERO | **Generalización EXCELENTE** |\n",
    "\n",
    ".\n",
    "\n",
    "---\n",
    "\n",
    "---"
   ]
  },
  {
   "cell_type": "markdown",
   "id": "75867d02",
   "metadata": {
    "id": "75867d02"
   },
   "source": [
    "## Ej 4. Análisis de los entrenamientos (1 punto)\n",
    "\n",
    "Tras haber entrenado dos modelos para el mismo conjunto de datos, es hora de visualizar los entrenamientos con más detalle e identificar cómo poder mejorar las métricas obtenidas. Para ello, haremos uso de las métricas que se han almacenado durante los entrenamientos. Procederemos a visualizarlas y, con ello, identificar problemas y plantear soluciones.\n",
    "\n",
    "Para simplificar la tarea del visualizado y dado que no es un objetivo de esta actividad, se provee el siguiente método:"
   ]
  },
  {
   "cell_type": "code",
   "execution_count": 37,
   "id": "58fb115f",
   "metadata": {
    "id": "58fb115f"
   },
   "outputs": [],
   "source": [
    "def plot_comparative(metric_name, train_values, validation_values):\n",
    "    plt.plot(range(1, len(train_values) + 1), train_values, 'o-', label=f\"Train {metric_name}\")\n",
    "    plt.plot(range(1, len(validation_values) + 1), validation_values, 'o-.', label=f\"Val {metric_name}\")\n",
    "    plt.xlabel(\"Epochs\")\n",
    "    plt.ylabel(f\"{metric_name}\")\n",
    "    plt.title(\"\")\n",
    "    plt.xticks(range(1, len(train_values) + 1), range(1, len(train_values) + 1))\n",
    "    plt.legend()\n",
    "    plt.show()"
   ]
  },
  {
   "cell_type": "markdown",
   "id": "dc5ed2ae",
   "metadata": {
    "id": "dc5ed2ae"
   },
   "source": [
    "### Ej 4.1. Análisis del entrenamiento del NNModel (0,5 puntos)\n",
    "\n",
    "Muestra la grafica utilizando la funcion `plot_comparative` la evolución del `loss` en los conjuntos de **train** y **validation** a lo largo de las épocas durante el entrenamiento del modelo de red neuronal clasica `nnmodel`"
   ]
  },
  {
   "cell_type": "code",
   "execution_count": 41,
   "id": "0d6b477c",
   "metadata": {
    "id": "0d6b477c"
   },
   "outputs": [
    {
     "name": "stdout",
     "output_type": "stream",
     "text": [
      "==> Análisis del Entrenamiento de la Red Clásica NN \n"
     ]
    },
    {
     "data": {
      "image/png": "[encoded data removed]",
      "text/plain": [
       "<Figure size 480x300 with 1 Axes>"
      ]
     },
     "metadata": {},
     "output_type": "display_data"
    }
   ],
   "source": [
    "import matplotlib\n",
    "matplotlib.rcParams['figure.figsize'] = [8, 5]  # Tamaño global más pequeño\n",
    "matplotlib.rcParams['figure.dpi'] = 60         # DPI reducido\n",
    "print(\"==> Análisis del Entrenamiento de la Red Clásica NN \")\n",
    "plot_comparative(\"Loss\", nn_model_train_losses, nn_model_val_losses)"
   ]
  },
  {
   "cell_type": "markdown",
   "id": "f66befd6",
   "metadata": {
    "id": "f66befd6"
   },
   "source": [
    "Ahora, muestra la evolución del `accuracy` en los conjuntos de **train** y en **validation**:"
   ]
  },
  {
   "cell_type": "code",
   "execution_count": 42,
   "id": "f91f8ef6",
   "metadata": {
    "id": "f91f8ef6"
   },
   "outputs": [
    {
     "name": "stdout",
     "output_type": "stream",
     "text": [
      "==> Evolución del Accuracy\n"
     ]
    },
    {
     "data": {
      "image/png": "[encoded data removed]",
      "text/plain": [
       "<Figure size 480x300 with 1 Axes>"
      ]
     },
     "metadata": {},
     "output_type": "display_data"
    }
   ],
   "source": [
    "import matplotlib\n",
    "matplotlib.rcParams['figure.figsize'] = [8, 5]  # Tamaño global más pequeño\n",
    "matplotlib.rcParams['figure.dpi'] = 60         # DPI reducido\n",
    "print(\"==> Evolución del Accuracy\")\n",
    "plot_comparative(\"Accuracy\", nn_model_train_accs, nn_model_val_accs)"
   ]
  },
  {
   "cell_type": "markdown",
   "id": "172ada67",
   "metadata": {
    "id": "172ada67"
   },
   "source": [
    "**¿Identificas algún problema? ¿Qué solución propones?**"
   ]
  },
  {
   "cell_type": "markdown",
   "id": "ZFlBUAw3ygwr",
   "metadata": {
    "id": "ZFlBUAw3ygwr"
   },
   "source": [
    "## Análisis de Problemas - Red Neuronal Clásica\n",
    "\n",
    "El principal preblema es un `overfitting` muy severo. Se ve claramente en las gráficas que el modelo alcanza el 100% de accuracy en train \n",
    "desde la primera época, pero en validation se queda estancado en un 36%. Esta diferencia de 64 puntos porcentuales es enorme y significa \n",
    "que el modelo no está aprendiendo patrones generalizables, sino que memoriza los datos de entrenamiento. \n",
    "\n",
    "También se ve en la gráfica del `loss` que mientras el train loss va bajando constantemente (de 0.13 a 0.04), el validation loss va \n",
    "subiendo (de 1.59 a 1.70). Esta es la señal más clara de overfitting porque el modelo se optimiza solo para los datos que ya conoce.\n",
    "\n",
    "La razón de este problema es que el modelo tiene demasiados parámetros (77 millones) para un dataset muy pequeño de slo 1000 imágenes.\n",
    "\n",
    "### Soluciones:\n",
    "\n",
    "Creo que una solución que se podría probar sería = añadir el Dropout en las capas de la red clásica para conseguir un efecto parecido a lo conseguido con las\n",
    "capas FC (densas) en AlexNet.\n",
    "Otra opción sería reducir el tamaño del modelo, hacer que tenga menos neuronas por capas. Pero supongo que esto tendría algún impacto en el resultado final.\n",
    "Otra posible solución sería tener un mayor dataset en combinación con el uso de Dropout en las capas FC ocultas.\n",
    "Por último solo un apunte. Recuerdo que el tutor mencionó una tecnica de \"early stopping\" que consistia en parar cuando el algorimo deja de mejorar pero:\n",
    "\n",
    "sin duda alguna la mejor solución es usar una red neuronal diseñada para este propósito como son las `Redes Convolucionales / Convolutional Neural Network - CNN`.\n",
    "Cómo se ha discutido en las tutorías de este módulo, las CNN han demostrado ser más resolutivas y eficaces con resultados espectaculares, superando con creces las redes clásicas..\n"
   ]
  },
  {
   "cell_type": "markdown",
   "id": "68db45a5",
   "metadata": {
    "id": "68db45a5"
   },
   "source": [
    "### Ej 4.2. Análisis del entrenamiento del AlexNet (0,5 puntos)\n",
    "\n",
    "Muestra la grafica utilizando la funcion `plot_comparative` la evolución del `loss` en los conjuntos de **train** y **validation** a lo largo de las épocas durante el entrenamiento de la CNN `AlexNet`"
   ]
  },
  {
   "cell_type": "code",
   "execution_count": 43,
   "id": "76b128e4",
   "metadata": {
    "id": "76b128e4"
   },
   "outputs": [
    {
     "name": "stdout",
     "output_type": "stream",
     "text": [
      "==> Evolución del 'loss'\n"
     ]
    },
    {
     "data": {
      "image/png": "[encoded data removed]",
      "text/plain": [
       "<Figure size 480x300 with 1 Axes>"
      ]
     },
     "metadata": {},
     "output_type": "display_data"
    }
   ],
   "source": [
    "import matplotlib\n",
    "matplotlib.rcParams['figure.figsize'] = [8, 5]  # Tamaño global más pequeño\n",
    "matplotlib.rcParams['figure.dpi'] = 60         # DPI reducido\n",
    "print(\"==> Evolución del 'loss'\")\n",
    "plot_comparative(\"Loss\", alexnet_model_train_losses, alexnet_model_val_losses)"
   ]
  },
  {
   "cell_type": "markdown",
   "id": "c1c4e481",
   "metadata": {
    "id": "c1c4e481"
   },
   "source": [
    "Ahora, muestra la evolución del `accuracy` en los conjuntos de **train** y en **validation**::"
   ]
  },
  {
   "cell_type": "code",
   "execution_count": 44,
   "id": "e3b0d258",
   "metadata": {
    "id": "e3b0d258"
   },
   "outputs": [
    {
     "name": "stdout",
     "output_type": "stream",
     "text": [
      "==> Evolución del 'Accuracy'\n"
     ]
    },
    {
     "data": {
      "image/png": "[encoded data removed]",
      "text/plain": [
       "<Figure size 480x300 with 1 Axes>"
      ]
     },
     "metadata": {},
     "output_type": "display_data"
    }
   ],
   "source": [
    "import matplotlib\n",
    "matplotlib.rcParams['figure.figsize'] = [8, 5]  # Tamaño global más pequeño\n",
    "matplotlib.rcParams['figure.dpi'] = 60         # DPI reducido\n",
    "print(\"==> Evolución del 'Accuracy'\")\n",
    "plot_comparative(\"Accuracy\",alexnet_model_train_accs, alexnet_model_val_accs)"
   ]
  },
  {
   "cell_type": "markdown",
   "id": "68916bc9",
   "metadata": {
    "id": "68916bc9"
   },
   "source": [
    "**¿Identificas algún problema? ¿Qué solución propones?**"
   ]
  },
  {
   "cell_type": "markdown",
   "id": "lBvoTqaE4PFC",
   "metadata": {
    "id": "lBvoTqaE4PFC"
   },
   "source": [
    "## Análisis de Problemas - AlexNet\n",
    "\n",
    "### ¿Identificas algún problema? ¿Qué solución propones?\n",
    "\n",
    "**Problemas identificados:**\n",
    "\n",
    "AlexNet presenta un mejor comportamiento que la red clásica, pero se pueden identificar algunos problemas.\n",
    "\n",
    "El principal problema es que el rendimiento general sigue siendo bajo, con una accuracy final de 41.4% en train y 34.2% en test. \n",
    "Aunque esto es mucho mejor que el overfitting severo de la red clásica, indica que el modelo aún no está extrayendo características \n",
    "suficientemente discriminativas.\n",
    "\n",
    "En las gráficas se ve que hay bastantes oscilaciones en validation, especialmente en accuracy, donde salta entre 27% y 42%. Esto \n",
    "sugiere que el conjunto de validation es muy pequeño y por tanto las métricas no son muy estables estadísticamente.\n",
    "\n",
    "También se observa que el learning rate podría ser demasiado conservador. La mejora es muy gradual y lenta, lo que indica que \n",
    "con un learning rate ligeramente mayor podría converger más rápido a un mejor resultado.\n",
    "\n",
    "**Soluciones propuestas:**\n",
    "\n",
    "La primera solución sería aumentar el learning rate. En lugar de 1e-5, se podría probar con 1e-4 o 5e-5 para acelerar la convergencia \n",
    "y permitir que el modelo explore mejor el espacio de parámetros.\n",
    "\n",
    "Otra mejora importante sería entrenar por más épocas. Las gráficas muestran que el modelo sigue mejorando gradualmente, por lo que \n",
    "25 o 30 épocas podrían dar mejores resultados.\n",
    "\n",
    "También se podría implementar data augmentation, aplicando rotaciones, escalados y recortes aleatorios a las imágenes durante el entrenamiento. \n",
    "Esto aumentaría artificialmente el tamaño del dataset y ayudaría al modelo a generalizar mejor.\n",
    "\n",
    "Por último, se podría ajustar la arquitectura reduciendo ligeramente el dropout (de 0.5 a 0.3) para permitir que más información fluya \n",
    "durante el entrenamiento, ya que el overfitting no parece ser un problema severo en este caso.\n",
    "\n"
   ]
  },
  {
   "cell_type": "code",
   "execution_count": 49,
   "id": "cdf8b26c",
   "metadata": {},
   "outputs": [
    {
     "name": "stdout",
     "output_type": "stream",
     "text": [
      "Gráfica extra para --> Comparación viusal con todas las gráficas juntas\n"
     ]
    },
    {
     "data": {
      "image/png": "[encoded data removed]",
      "text/plain": [
       "<Figure size 600x400 with 4 Axes>"
      ]
     },
     "metadata": {},
     "output_type": "display_data"
    }
   ],
   "source": [
    "import matplotlib.pyplot as plt\n",
    "\n",
    "import matplotlib\n",
    "matplotlib.rcParams['figure.figsize'] = [8, 5]  # Tamaño global más pequeño\n",
    "matplotlib.rcParams['figure.dpi'] = 40         # DPI reducido\n",
    "\n",
    "print(\"Gráfica extra para --> Comparación viusal con todas las gráficas juntas\")\n",
    "# Crear figura con 4 subplots (2 filas, 2 columnas)\n",
    "fig, ((ax1, ax2), (ax3, ax4)) = plt.subplots(2, 2, figsize=(15, 10))\n",
    "\n",
    "# Gráfica 1: Loss Red Clásica\n",
    "ax1.plot(range(1, 16), nn_model_train_losses, 'o-', label=\"Train Loss\", color='blue')\n",
    "ax1.plot(range(1, 16), nn_model_val_losses, 'o-.', label=\"Val Loss\", color='orange')\n",
    "ax1.set_title(\"Red Clásica - Loss\")\n",
    "ax1.set_xlabel(\"Epochs\")\n",
    "ax1.set_ylabel(\"Loss\")\n",
    "ax1.legend()\n",
    "ax1.grid(True)\n",
    "\n",
    "# Gráfica 2: Loss AlexNet\n",
    "ax2.plot(range(1, 16), alexnet_model_train_losses, 'o-', label=\"Train Loss\", color='blue')\n",
    "ax2.plot(range(1, 16), alexnet_model_val_losses, 'o-.', label=\"Val Loss\", color='orange')\n",
    "ax2.set_title(\"AlexNet - Loss\")\n",
    "ax2.set_xlabel(\"Epochs\")\n",
    "ax2.set_ylabel(\"Loss\")\n",
    "ax2.legend()\n",
    "ax2.grid(True)\n",
    "\n",
    "# Gráfica 3: Accuracy Red Clásica\n",
    "ax3.plot(range(1, 16), nn_model_train_accs, 'o-', label=\"Train Accuracy\", color='blue')\n",
    "ax3.plot(range(1, 16), nn_model_val_accs, 'o-.', label=\"Val Accuracy\", color='orange')\n",
    "ax3.set_title(\"Red Clásica - Accuracy\")\n",
    "ax3.set_xlabel(\"Epochs\")\n",
    "ax3.set_ylabel(\"Accuracy (%)\")\n",
    "ax3.legend()\n",
    "ax3.grid(True)\n",
    "\n",
    "# Gráfica 4: Accuracy AlexNet\n",
    "ax4.plot(range(1, 16), alexnet_model_train_accs, 'o-', label=\"Train Accuracy\", color='blue')\n",
    "ax4.plot(range(1, 16), alexnet_model_val_accs, 'o-.', label=\"Val Accuracy\", color='orange')\n",
    "ax4.set_title(\"AlexNet - Accuracy\")\n",
    "ax4.set_xlabel(\"Epochs\")\n",
    "ax4.set_ylabel(\"Accuracy (%)\")\n",
    "ax4.legend()\n",
    "ax4.grid(True)\n",
    "\n",
    "plt.tight_layout()\n",
    "plt.suptitle(\"COMPARACIÓN: Red Clásica vs AlexNet\", fontsize=16, y=1.02)\n",
    "plt.show()"
   ]
  },
  {
   "cell_type": "code",
   "execution_count": 50,
   "id": "4304e04c",
   "metadata": {},
   "outputs": [
    {
     "name": "stdout",
     "output_type": "stream",
     "text": [
      "==> Modelo AlexNet creado y movido a: cuda\n",
      "Tipo de modelo: <class '__main__.AlexNet'>\n",
      "Desglose de parámetros por capa:\n",
      "----------------------------------------\n",
      "conv1.weight:     34,848 parámetros\n",
      "conv1.bias  :         96 parámetros\n",
      "conv2.weight:    614,400 parámetros\n",
      "conv2.bias  :        256 parámetros\n",
      "conv3.weight:    884,736 parámetros\n",
      "conv3.bias  :        384 parámetros\n",
      "conv4.weight:  1,327,104 parámetros\n",
      "conv4.bias  :        384 parámetros\n",
      "conv5.weight:    884,736 parámetros\n",
      "conv5.bias  :        256 parámetros\n",
      "fc1.weight  : 37,748,736 parámetros\n",
      "fc1.bias    :      4,096 parámetros\n",
      "fc2.weight  : 16,777,216 parámetros\n",
      "fc2.bias    :      4,096 parámetros\n",
      "fc3.weight  :     16,384 parámetros\n",
      "fc3.bias    :          4 parámetros\n",
      "----------------------------------------\n",
      "total       : 58,297,732 parámetros\n",
      "\n",
      ">>> RESPUESTA = El modelo tiene --> 58,297,732 <-- Parámetros entrenables\n",
      "-> Optimizador ADAM configurado para AlexNet\n",
      "Learning rate: 0.0003\n",
      "Parámetros a optimizar: 58,297,732\n",
      "-> Función de pérdida configurada para AlexNet: CrossEntropyLoss\n",
      "Tipo: <class 'torch.nn.modules.loss.CrossEntropyLoss'>\n",
      "-> Iniciando entrenamiento de AlexNET con LR = 3e-4\n",
      "==================================================\n",
      "Configuración: 15 épocas, batch_size=64, lr=3e-4\n",
      "==================================================\n",
      "\n",
      "Epoch = 1 / 15\n",
      "--------------------------------------------------\n",
      "Train Metrics: \n",
      " Accuracy: 24.6%, Avg train loss: 1.392231\n",
      "\n",
      "Val or Test Metrics: \n",
      " Accuracy: 30.6%, Avg loss: 1.382729 \n",
      "\n",
      "-> Resumen Época 1:\n",
      "  - Train - Loss: 1.3922, Accuracy: 24.6%\n",
      "  - Val   - Loss: 1.3827, Accuracy: 30.6%\n",
      "==================================================\n",
      "\n",
      "Epoch = 2 / 15\n",
      "--------------------------------------------------\n",
      "Train Metrics: \n",
      " Accuracy: 24.0%, Avg train loss: 1.387803\n",
      "\n",
      "Val or Test Metrics: \n",
      " Accuracy: 16.7%, Avg loss: 1.390878 \n",
      "\n",
      "-> Resumen Época 2:\n",
      "  - Train - Loss: 1.3878, Accuracy: 24.0%\n",
      "  - Val   - Loss: 1.3909, Accuracy: 16.7%\n",
      "==================================================\n",
      "\n",
      "Epoch = 3 / 15\n",
      "--------------------------------------------------\n",
      "Train Metrics: \n",
      " Accuracy: 25.1%, Avg train loss: 1.385080\n",
      "\n",
      "Val or Test Metrics: \n",
      " Accuracy: 30.6%, Avg loss: 1.364723 \n",
      "\n",
      "-> Resumen Época 3:\n",
      "  - Train - Loss: 1.3851, Accuracy: 25.1%\n",
      "  - Val   - Loss: 1.3647, Accuracy: 30.6%\n",
      "==================================================\n",
      "\n",
      "Epoch = 4 / 15\n",
      "--------------------------------------------------\n",
      "Train Metrics: \n",
      " Accuracy: 32.7%, Avg train loss: 1.366638\n",
      "\n",
      "Val or Test Metrics: \n",
      " Accuracy: 30.6%, Avg loss: 1.399448 \n",
      "\n",
      "-> Resumen Época 4:\n",
      "  - Train - Loss: 1.3666, Accuracy: 32.7%\n",
      "  - Val   - Loss: 1.3994, Accuracy: 30.6%\n",
      "==================================================\n",
      "\n",
      "Epoch = 5 / 15\n",
      "--------------------------------------------------\n",
      "Train Metrics: \n",
      " Accuracy: 32.8%, Avg train loss: 1.355798\n",
      "\n",
      "Val or Test Metrics: \n",
      " Accuracy: 36.1%, Avg loss: 1.368695 \n",
      "\n",
      "-> Resumen Época 5:\n",
      "  - Train - Loss: 1.3558, Accuracy: 32.8%\n",
      "  - Val   - Loss: 1.3687, Accuracy: 36.1%\n",
      "==================================================\n",
      "\n",
      "Epoch = 6 / 15\n",
      "--------------------------------------------------\n",
      "Train Metrics: \n",
      " Accuracy: 35.4%, Avg train loss: 1.319953\n",
      "\n",
      "Val or Test Metrics: \n",
      " Accuracy: 33.3%, Avg loss: 1.386956 \n",
      "\n",
      "-> Resumen Época 6:\n",
      "  - Train - Loss: 1.3200, Accuracy: 35.4%\n",
      "  - Val   - Loss: 1.3870, Accuracy: 33.3%\n",
      "==================================================\n",
      "\n",
      "Epoch = 7 / 15\n",
      "--------------------------------------------------\n",
      "Train Metrics: \n",
      " Accuracy: 37.2%, Avg train loss: 1.288922\n",
      "\n",
      "Val or Test Metrics: \n",
      " Accuracy: 33.3%, Avg loss: 1.334770 \n",
      "\n",
      "-> Resumen Época 7:\n",
      "  - Train - Loss: 1.2889, Accuracy: 37.2%\n",
      "  - Val   - Loss: 1.3348, Accuracy: 33.3%\n",
      "==================================================\n",
      "\n",
      "Epoch = 8 / 15\n",
      "--------------------------------------------------\n",
      "Train Metrics: \n",
      " Accuracy: 41.9%, Avg train loss: 1.254352\n",
      "\n",
      "Val or Test Metrics: \n",
      " Accuracy: 30.6%, Avg loss: 1.449727 \n",
      "\n",
      "-> Resumen Época 8:\n",
      "  - Train - Loss: 1.2544, Accuracy: 41.9%\n",
      "  - Val   - Loss: 1.4497, Accuracy: 30.6%\n",
      "==================================================\n",
      "\n",
      "Epoch = 9 / 15\n",
      "--------------------------------------------------\n",
      "Train Metrics: \n",
      " Accuracy: 44.5%, Avg train loss: 1.251612\n",
      "\n",
      "Val or Test Metrics: \n",
      " Accuracy: 30.6%, Avg loss: 1.414056 \n",
      "\n",
      "-> Resumen Época 9:\n",
      "  - Train - Loss: 1.2516, Accuracy: 44.5%\n",
      "  - Val   - Loss: 1.4141, Accuracy: 30.6%\n",
      "==================================================\n",
      "\n",
      "Epoch = 10 / 15\n",
      "--------------------------------------------------\n",
      "Train Metrics: \n",
      " Accuracy: 45.2%, Avg train loss: 1.209115\n",
      "\n",
      "Val or Test Metrics: \n",
      " Accuracy: 36.1%, Avg loss: 1.367678 \n",
      "\n",
      "-> Resumen Época 10:\n",
      "  - Train - Loss: 1.2091, Accuracy: 45.2%\n",
      "  - Val   - Loss: 1.3677, Accuracy: 36.1%\n",
      "==================================================\n",
      "\n",
      "Epoch = 11 / 15\n",
      "--------------------------------------------------\n",
      "Train Metrics: \n",
      " Accuracy: 49.7%, Avg train loss: 1.139611\n",
      "\n",
      "Val or Test Metrics: \n",
      " Accuracy: 38.9%, Avg loss: 1.409958 \n",
      "\n",
      "-> Resumen Época 11:\n",
      "  - Train - Loss: 1.1396, Accuracy: 49.7%\n",
      "  - Val   - Loss: 1.4100, Accuracy: 38.9%\n",
      "==================================================\n",
      "\n",
      "Epoch = 12 / 15\n",
      "--------------------------------------------------\n",
      "Train Metrics: \n",
      " Accuracy: 56.4%, Avg train loss: 1.027094\n",
      "\n",
      "Val or Test Metrics: \n",
      " Accuracy: 30.6%, Avg loss: 1.603147 \n",
      "\n",
      "-> Resumen Época 12:\n",
      "  - Train - Loss: 1.0271, Accuracy: 56.4%\n",
      "  - Val   - Loss: 1.6031, Accuracy: 30.6%\n",
      "==================================================\n",
      "\n",
      "Epoch = 13 / 15\n",
      "--------------------------------------------------\n",
      "Train Metrics: \n",
      " Accuracy: 57.4%, Avg train loss: 0.990193\n",
      "\n",
      "Val or Test Metrics: \n",
      " Accuracy: 38.9%, Avg loss: 1.557385 \n",
      "\n",
      "-> Resumen Época 13:\n",
      "  - Train - Loss: 0.9902, Accuracy: 57.4%\n",
      "  - Val   - Loss: 1.5574, Accuracy: 38.9%\n",
      "==================================================\n",
      "\n",
      "Epoch = 14 / 15\n",
      "--------------------------------------------------\n",
      "Train Metrics: \n",
      " Accuracy: 62.3%, Avg train loss: 0.888305\n",
      "\n",
      "Val or Test Metrics: \n",
      " Accuracy: 50.0%, Avg loss: 1.662104 \n",
      "\n",
      "-> Resumen Época 14:\n",
      "  - Train - Loss: 0.8883, Accuracy: 62.3%\n",
      "  - Val   - Loss: 1.6621, Accuracy: 50.0%\n",
      "==================================================\n",
      "\n",
      "Epoch = 15 / 15\n",
      "--------------------------------------------------\n",
      "Train Metrics: \n",
      " Accuracy: 66.8%, Avg train loss: 0.778684\n",
      "\n",
      "Val or Test Metrics: \n",
      " Accuracy: 38.9%, Avg loss: 1.647499 \n",
      "\n",
      "-> Resumen Época 15:\n",
      "  - Train - Loss: 0.7787, Accuracy: 66.8%\n",
      "  - Val   - Loss: 1.6475, Accuracy: 38.9%\n",
      "==================================================\n",
      "=======================================================\n",
      " >>>  Métricas del Conjunto de Test --> ALEXNET LR=3e-4 <<<\n",
      "=======================================================\n",
      "\n",
      "Val or Test Metrics: \n",
      " Accuracy: 28.9%, Avg loss: 1.662356 \n",
      "\n",
      "-> MÉTRICAS FINALES - ALEXNET LR=3e-4:\n",
      "-> Test Loss: 1.6624\n",
      "-> Test Accuracy: 28.9%\n",
      "\n",
      "=======================================================\n",
      "\n",
      "-> COMPARACIÓN DE LEARNING RATES:\n",
      "-------------------------------------------------------\n",
      "   AlexNet LR=1e-5     :  34.2%\n",
      "   AlexNet LR=3e-4     :  28.9%\n",
      "   Diferencia          :  -5.3 puntos\n"
     ]
    }
   ],
   "source": [
    "# Intento de prueba con otrao learning-rate\n",
    "\n",
    "# Crear modelo AlexNet con nuevo learning rate\n",
    "alexnet_model_fast = AlexNet()\n",
    "alexnet_model_fast = alexnet_model_fast.to(device)\n",
    "print(f\"==> Modelo AlexNet creado y movido a: {device}\")\n",
    "print(f\"Tipo de modelo: {type(alexnet_model_fast)}\")\n",
    "\n",
    "# Contar parámetros\n",
    "parametros_alexnet_fast = contar_parametros(alexnet_model_fast)\n",
    "\n",
    "# Configurar optimizador con nuevo learning rate\n",
    "alexnet_optimizer_fast = torch.optim.Adam(alexnet_model_fast.parameters(), lr=3e-4)\n",
    "print(f\"-> Optimizador ADAM configurado para AlexNet\")\n",
    "print(f\"Learning rate: {3e-4}\")\n",
    "print(f\"Parámetros a optimizar: {parametros_alexnet_fast:,}\")\n",
    "\n",
    "# Configurar función de pérdida\n",
    "alexnet_loss_fn_fast = nn.CrossEntropyLoss()\n",
    "print(f\"-> Función de pérdida configurada para AlexNet: CrossEntropyLoss\")\n",
    "print(f\"Tipo: {type(alexnet_loss_fn_fast)}\")\n",
    "\n",
    "# Entrenar AlexNet con nuevo learning rate\n",
    "alexnet_fast_train_losses, alexnet_fast_train_accs, alexnet_fast_val_losses, alexnet_fast_val_accs = [],[],[],[]\n",
    "epochs = 15\n",
    "print(\"-> Iniciando entrenamiento de AlexNET con LR = 3e-4\")\n",
    "print(\"=\" * 50)\n",
    "print(f\"Configuración: {epochs} épocas, batch_size=64, lr=3e-4\")\n",
    "print(\"=\" * 50)\n",
    "\n",
    "for t in range(epochs):\n",
    "    print(f\"\\nEpoch = {t+1} / {epochs}\\n\" + \"-\" * 50)\n",
    "       \n",
    "    # ENTRENAMIENTO: usar conjunto de train\n",
    "    train_loss, train_acc = training(train_dataloader, alexnet_model_fast, alexnet_loss_fn_fast, alexnet_optimizer_fast)\n",
    "   \n",
    "    # Guardar métricas de entrenamiento\n",
    "    alexnet_fast_train_losses.append(train_loss)\n",
    "    alexnet_fast_train_accs.append(train_acc)\n",
    "   \n",
    "    # VALIDACIÓN: evaluar en conjunto de validación\n",
    "    val_loss, val_acc = test_and_validation(validation_dataloader, alexnet_model_fast, alexnet_loss_fn_fast)\n",
    "   \n",
    "    # Guardar métricas de validación\n",
    "    alexnet_fast_val_losses.append(val_loss)\n",
    "    alexnet_fast_val_accs.append(val_acc)\n",
    "   \n",
    "    # Resumen de la época\n",
    "    print(f\"-> Resumen Época {t+1}:\")\n",
    "    print(f\"  - Train - Loss: {train_loss:.4f}, Accuracy: {train_acc:.1f}%\")\n",
    "    print(f\"  - Val   - Loss: {val_loss:.4f}, Accuracy: {val_acc:.1f}%\")\n",
    "    print(\"=\" * 50)\n",
    "\n",
    "# Evaluar en test\n",
    "print(\"=\" * 55)\n",
    "print(\" >>>  Métricas del Conjunto de Test --> ALEXNET LR=3e-4 <<<\")\n",
    "print(\"=\" * 55 + \"\\n\")\n",
    "\n",
    "test_loss_fast, test_accuracy_fast = test_and_validation(test_dataloader, alexnet_model_fast, alexnet_loss_fn_fast)\n",
    "\n",
    "print(f\"-> MÉTRICAS FINALES - ALEXNET LR=3e-4:\")\n",
    "print(f\"-> Test Loss: {test_loss_fast:.4f}\")\n",
    "print(f\"-> Test Accuracy: {test_accuracy_fast:.1f}%\")\n",
    "print(\"\\n\" + \"=\" * 55 + \"\\n\")\n",
    "\n",
    "# Comparación\n",
    "print(f\"-> COMPARACIÓN DE LEARNING RATES:\\n\" + \"-\" * 55)\n",
    "print(f\"   AlexNet LR=1e-5     :  34.2%\")\n",
    "print(f\"   AlexNet LR=3e-4     :  {test_accuracy_fast:.1f}%\")\n",
    "diferencia = test_accuracy_fast - 34.2\n",
    "print(f\"   Diferencia          :  {diferencia:+.1f} puntos\")"
   ]
  },
  {
   "cell_type": "code",
   "execution_count": 51,
   "id": "176d2646",
   "metadata": {},
   "outputs": [
    {
     "name": "stdout",
     "output_type": "stream",
     "text": [
      "==> ANÁLISIS DEL ENTRENAMIENTO - ALEXNET con Learning Rate LR=3e-4\n",
      "============================================================\n",
      "-> Evolución del Loss:\n"
     ]
    },
    {
     "data": {
      "image/png": "[encoded data removed]",
      "text/plain": [
       "<Figure size 480x300 with 1 Axes>"
      ]
     },
     "metadata": {},
     "output_type": "display_data"
    },
    {
     "name": "stdout",
     "output_type": "stream",
     "text": [
      "-> Evolución del Accuracy:\n"
     ]
    },
    {
     "data": {
      "image/png": "[encoded data removed]",
      "text/plain": [
       "<Figure size 480x300 with 1 Axes>"
      ]
     },
     "metadata": {},
     "output_type": "display_data"
    }
   ],
   "source": [
    "import matplotlib\n",
    "matplotlib.rcParams['figure.figsize'] = [8, 5]  # Tamaño global más pequeño\n",
    "matplotlib.rcParams['figure.dpi'] = 60         # DPI reducido\n",
    "\n",
    "# Gráficas del experimento con LR=3e-4\n",
    "print(\"==> ANÁLISIS DEL ENTRENAMIENTO - ALEXNET con Learning Rate LR=3e-4\")\n",
    "print(\"=\" * 60)\n",
    "print(\"-> Evolución del Loss:\")\n",
    "\n",
    "# Gráfica de Loss para AlexNet LR=3e-4\n",
    "plot_comparative(\"Loss\", alexnet_fast_train_losses, alexnet_fast_val_losses)\n",
    "\n",
    "print(\"-> Evolución del Accuracy:\")\n",
    "\n",
    "# Gráfica de Accuracy para AlexNet LR=3e-4\n",
    "plot_comparative(\"Accuracy\", alexnet_fast_train_accs, alexnet_fast_val_accs)"
   ]
  },
  {
   "cell_type": "markdown",
   "id": "603fa53b",
   "metadata": {},
   "source": [
    "### análisis de las gráficas\n",
    "\n",
    "Al obserbar estas gráficas se pueden obserbar diferencias muyu clasras respecto al entrenamiento anterior.\n",
    "\n",
    "Con estos resultados se aprecia un descenso muy pronunciado del Train-Loss el cual tiene una mejora consistente y llega a valores también más bajos de 1.4. Estos nos indica que el modelo está aprendiendo con más eficiencia.\n",
    "El Validation Loss empieza bien pero después sube drásticamente a partir de las épocas 8-9 y llega a valores demasiado altos por encima del 2.0. Esto indica que\n",
    "el modelo se está sobreajustando (overfitting).\n",
    "\n",
    "En la gráfica del Accuracy también hay una divergencia notable. El Train Accuracy sube de manera vertiginosa a valores muy altos pasando de un 26% (con 1e-5) al 77% (con 3e-4). Sin embargo, Validation Accuracy se queda entre el 20% y el 35%, lo cual no muestra una mejora.\n",
    "\n",
    "Esto se traduce como una señal de overfitting y nos da a entender que el leraning rate usado no es óptimo, y es por tanto, demasiado agresivo.\n",
    "\n"
   ]
  },
  {
   "cell_type": "markdown",
   "id": "a80f3492",
   "metadata": {},
   "source": [
    "## Comentario final\n",
    "\n",
    "Como último apunte, me gustaría mencionar que es la primera vez que hago algo de ML o de DL y esta práctica me ha tomado muchos días resolverla. Así que estoy bastante abrumado con tanta información y código. Con este módulo tomo una base mínima en mi caso, pero una buena base desde la que seguir investigando con otro tipo de algoritmos en el futuro. He empezado este máster con un desconocimiento total de ML y DL, y me parece impresionante todo lo que hemos visto hasta ahora y concretamente en este módulo."
   ]
  },
  {
   "cell_type": "markdown",
   "id": "35cc941c",
   "metadata": {},
   "source": [
    "---\n",
    "## Fin de la `práctica 1`"
   ]
  }
 ],
 "metadata": {
  "accelerator": "GPU",
  "colab": {
   "collapsed_sections": [
    "c595f563",
    "eafc5c07",
    "4ta8sK8sBWl0",
    "f82f4ee4",
    "39fb952e",
    "bfe2409b",
    "aa283b85",
    "dc5ed2ae"
   ],
   "gpuType": "T4",
   "provenance": []
  },
  "kernelspec": {
   "display_name": ".venv",
   "language": "python",
   "name": "python3"
  },
  "language_info": {
   "codemirror_mode": {
    "name": "ipython",
    "version": 3
   },
   "file_extension": ".py",
   "mimetype": "text/x-python",
   "name": "python",
   "nbconvert_exporter": "python",
   "pygments_lexer": "ipython3",
   "version": "3.10.0"
  }
 },
 "nbformat": 4,
 "nbformat_minor": 5
}
